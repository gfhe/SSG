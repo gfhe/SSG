{
 "cells": [
  {
   "cell_type": "markdown",
   "metadata": {},
   "source": [
    "## 构建ssg 索引\n",
    "\n",
    "构建ssg索引的原始数据：\n",
    "1. npy数据文件：二维数组，每行表示一个向量。\n",
    "2. idx索引文件：kgraph索引文件；\n",
    "\n",
    "默认的kgraph 配置：https://github.com/gfhe/kgraph/blob/master/doc/params.md#index-parameters\n",
    "\n",
    "```\n",
    "K\t25\t\n",
    "L\t100\n",
    "S\t10\n",
    "R\t100\n",
    "iter    30\n",
    "```\n",
    "\n",
    "\n",
    "\n",
    "构建步骤:\n",
    "1. 编译ssg\n",
    "2. npy转fvecs\n",
    "3. test_ssg_index 命令构建ssg索引.\n",
    "    * SSG 的默认`angle=60`"
   ]
  },
  {
   "cell_type": "code",
   "execution_count": 3,
   "metadata": {},
   "outputs": [
    {
     "name": "stdout",
     "output_type": "stream",
     "text": [
      "转换完成！\n"
     ]
    }
   ],
   "source": [
    "import numpy as np\n",
    "\n",
    "def npy_to_fvecs(npy_file, fvecs_file):\n",
    "    # 从npy文件中加载数组\n",
    "    array = np.load(npy_file)\n",
    "\n",
    "    # 打开fvecs文件进行写入\n",
    "    with open(fvecs_file, 'wb') as f:\n",
    "        # 获取数组的形状\n",
    "        num_vectors, vector_dim = array.shape\n",
    "\n",
    "        # 将每个向量写入fvecs文件\n",
    "        for vector in array:\n",
    "            # 每行开始，向量的维度\n",
    "            f.write(np.array(vector_dim, dtype=np.int32).tobytes())\n",
    "            \n",
    "            # 将向量转换为float32类型，并写入fvecs文件\n",
    "            f.write(vector.astype(np.float32).tobytes())\n",
    "\n",
    "    print(\"转换完成！\")\n",
    "\n",
    "# 调用函数进行转换\n",
    "npy_file = \"data/10000-sift1m.npy\"      # 输入的npy文件路径\n",
    "fvecs_file = \"data/10000-sift1m.fvecs\"  # 输出的fvecs文件路径   \n",
    "npy_to_fvecs(npy_file, fvecs_file)"
   ]
  },
  {
   "cell_type": "code",
   "execution_count": 5,
   "metadata": {},
   "outputs": [
    {
     "data": {
      "text/plain": [
       "(10000, 128)"
      ]
     },
     "execution_count": 5,
     "metadata": {},
     "output_type": "execute_result"
    }
   ],
   "source": [
    "# 验证转换数据的正确性\n",
    "\n",
    "def ivecs_read(fname):\n",
    "    a = np.fromfile(fname, dtype='int32')\n",
    "    d = a[0]\n",
    "    return a.reshape(-1, d + 1)[:, 1:].copy()\n",
    "\n",
    "\n",
    "def fvecs_read(fname):\n",
    "    return ivecs_read(fname).view('float32')\n",
    "\n",
    "\n",
    "dataset = fvecs_read('data/10000-sift1m.fvecs')\n",
    "dataset.shape"
   ]
  },
  {
   "cell_type": "markdown",
   "metadata": {},
   "source": [
    "## 使用struct 库读区ssg 索引\n",
    "参考：https://poe.com/s/oYR9KsWm9wnmjFyIRGQI"
   ]
  },
  {
   "cell_type": "code",
   "execution_count": null,
   "metadata": {},
   "outputs": [],
   "source": []
  }
 ],
 "metadata": {
  "kernelspec": {
   "display_name": "Python 3",
   "language": "python",
   "name": "python3"
  },
  "language_info": {
   "codemirror_mode": {
    "name": "ipython",
    "version": 3
   },
   "file_extension": ".py",
   "mimetype": "text/x-python",
   "name": "python",
   "nbconvert_exporter": "python",
   "pygments_lexer": "ipython3",
   "version": "3.10.8"
  },
  "orig_nbformat": 4
 },
 "nbformat": 4,
 "nbformat_minor": 2
}
