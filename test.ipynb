{
 "cells": [
  {
   "cell_type": "code",
   "execution_count": 5,
   "metadata": {},
   "outputs": [
    {
     "data": {
      "text/plain": [
       "89"
      ]
     },
     "execution_count": 5,
     "metadata": {},
     "output_type": "execute_result"
    }
   ],
   "source": [
    "import random\n",
    "a = [11,22,33,445,56,67,78,89,90,100]\n",
    "random.choice(a)"
   ]
  },
  {
   "cell_type": "code",
   "execution_count": 6,
   "metadata": {},
   "outputs": [
    {
     "ename": "NameError",
     "evalue": "name 'self' is not defined",
     "output_type": "error",
     "traceback": [
      "\u001b[0;31m---------------------------------------------------------------------------\u001b[0m",
      "\u001b[0;31mNameError\u001b[0m                                 Traceback (most recent call last)",
      "Cell \u001b[0;32mIn[6], line 2\u001b[0m\n\u001b[1;32m      1\u001b[0m \u001b[39m# 假设self.neighbor_len是包含邻居数量的列表\u001b[39;00m\n\u001b[0;32m----> 2\u001b[0m \u001b[39mself\u001b[39;49m\u001b[39m.\u001b[39mneighbor_len \u001b[39m=\u001b[39m [\u001b[39m5\u001b[39m, \u001b[39m2\u001b[39m, \u001b[39m8\u001b[39m, \u001b[39m3\u001b[39m, \u001b[39m10\u001b[39m]\n\u001b[1;32m      4\u001b[0m \u001b[39m# 按照邻居数量逆序对ID进行排序\u001b[39;00m\n\u001b[1;32m      5\u001b[0m sorted_ids \u001b[39m=\u001b[39m \u001b[39msorted\u001b[39m(\u001b[39mrange\u001b[39m(\u001b[39mlen\u001b[39m(\u001b[39mself\u001b[39m\u001b[39m.\u001b[39mneighbor_len)), key\u001b[39m=\u001b[39m\u001b[39mlambda\u001b[39;00m i: \u001b[39mself\u001b[39m\u001b[39m.\u001b[39mneighbor_len[i], reverse\u001b[39m=\u001b[39m\u001b[39mTrue\u001b[39;00m)\n",
      "\u001b[0;31mNameError\u001b[0m: name 'self' is not defined"
     ]
    }
   ],
   "source": [
    "# 假设self.neighbor_len是包含邻居数量的列表\n",
    "self.neighbor_len = [5, 2, 8, 3, 10]\n",
    "\n",
    "# 按照邻居数量逆序对ID进行排序\n",
    "sorted_ids = sorted(range(len(self.neighbor_len)), key=lambda i: self.neighbor_len[i], reverse=True)"
   ]
  },
  {
   "cell_type": "code",
   "execution_count": 9,
   "metadata": {},
   "outputs": [
    {
     "data": {
      "text/plain": [
       "[[1, 2], [2, 3], [444, 55, 5], {2: {}}]"
      ]
     },
     "execution_count": 9,
     "metadata": {},
     "output_type": "execute_result"
    }
   ],
   "source": [
    "data=[[1,2],[2,3],[444,55,5]]\n",
    "data.append({2: {}})\n",
    "data"
   ]
  },
  {
   "cell_type": "code",
   "execution_count": null,
   "metadata": {},
   "outputs": [],
   "source": []
  }
 ],
 "metadata": {
  "kernelspec": {
   "display_name": "Python 3",
   "language": "python",
   "name": "python3"
  },
  "language_info": {
   "codemirror_mode": {
    "name": "ipython",
    "version": 3
   },
   "file_extension": ".py",
   "mimetype": "text/x-python",
   "name": "python",
   "nbconvert_exporter": "python",
   "pygments_lexer": "ipython3",
   "version": "3.10.8"
  },
  "orig_nbformat": 4
 },
 "nbformat": 4,
 "nbformat_minor": 2
}
