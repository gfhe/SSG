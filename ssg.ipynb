{
 "cells": [
  {
   "cell_type": "markdown",
   "metadata": {},
   "source": [
    "## 运行准备"
   ]
  },
  {
   "cell_type": "markdown",
   "metadata": {},
   "source": [
    "### 环境准备"
   ]
  },
  {
   "cell_type": "code",
   "execution_count": 1,
   "metadata": {},
   "outputs": [
    {
     "name": "stdout",
     "output_type": "stream",
     "text": [
      "Processing /workspaces/SSG\n",
      "  Preparing metadata (setup.py) ... \u001b[?25ldone\n",
      "\u001b[?25hBuilding wheels for collected packages: pyssg\n",
      "  Building wheel for pyssg (setup.py) ... \u001b[?25l"
     ]
    },
    {
     "name": "stdout",
     "output_type": "stream",
     "text": [
      "done\n",
      "\u001b[?25h  Created wheel for pyssg: filename=pyssg-0.1-cp310-cp310-linux_x86_64.whl size=100766 sha256=2659df0329426ae642d54735b2b8a1153d8ca22220988915cb7b6e059bd3faa2\n",
      "  Stored in directory: /tmp/pip-ephem-wheel-cache-3qon13ru/wheels/ec/6e/1e/b6b0a5ab76881d636723508394250141d3535520506f9f2282\n",
      "Successfully built pyssg\n",
      "Installing collected packages: pyssg\n",
      "  Attempting uninstall: pyssg\n",
      "    Found existing installation: pyssg 0.1\n",
      "    Uninstalling pyssg-0.1:\n",
      "      Successfully uninstalled pyssg-0.1\n",
      "Successfully installed pyssg-0.1\n",
      "Requirement already satisfied: numpy in /home/codespace/.local/lib/python3.10/site-packages (1.25.2)\n"
     ]
    }
   ],
   "source": [
    "!pip install .\n",
    "!pip install numpy"
   ]
  },
  {
   "cell_type": "markdown",
   "metadata": {},
   "source": [
    "### 准备数据\n",
    "\n",
    "下载 sift_base.fvecs[huggingface 上，dataset： `qbo-odp/sift1m`]"
   ]
  },
  {
   "cell_type": "code",
   "execution_count": 13,
   "metadata": {},
   "outputs": [
    {
     "name": "stdout",
     "output_type": "stream",
     "text": [
      "Cloning into 'sift1m'...\n",
      "warning: redirecting to https://huggingface.co/datasets/qbo-odp/sift1m/\n",
      "remote: Enumerating objects: 14, done.\u001b[K\n",
      "remote: Counting objects: 100% (14/14), done.\u001b[K\n",
      "remote: Compressing objects: 100% (13/13), done.\u001b[K\n",
      "remote: Total 14 (delta 2), reused 0 (delta 0), pack-reused 0\u001b[K\n",
      "Unpacking objects: 100% (14/14), 2.03 KiB | 519.00 KiB/s, done.\n",
      "Filtering content: 100% (4/4), 550.08 MiB | 11.75 MiB/s, done.\n"
     ]
    }
   ],
   "source": [
    "! git clone http://huggingface.co/datasets/qbo-odp/sift1m"
   ]
  },
  {
   "cell_type": "markdown",
   "metadata": {},
   "source": [
    "### 读取数据"
   ]
  },
  {
   "cell_type": "code",
   "execution_count": null,
   "metadata": {},
   "outputs": [],
   "source": [
    "sift_file = \"sift1m/sift_base.fvecs\""
   ]
  },
  {
   "cell_type": "code",
   "execution_count": 3,
   "metadata": {},
   "outputs": [],
   "source": [
    "import numpy as np\n",
    "data = np.fromfile(sift_file, dtype=np.float32)\n",
    "dim = data[0].view(np.int32)\n",
    "data = data.reshape(-1, dim + 1)\n",
    "# fvecs 中每行的第0号元素表示每行数据的维数，不是向量数据。\n",
    "data = np.ascontiguousarray(data[:, 1:]) # 避免内存复制，直接使用连续内存作为数组。\n",
    "ndata, dim = data.shape"
   ]
  },
  {
   "cell_type": "markdown",
   "metadata": {},
   "source": [
    "## ssg 测试"
   ]
  },
  {
   "cell_type": "code",
   "execution_count": 8,
   "metadata": {},
   "outputs": [],
   "source": [
    "import pyssg\n",
    "\n",
    "pyssg.set_seed(1234)"
   ]
  },
  {
   "cell_type": "markdown",
   "metadata": {},
   "source": [
    "### load fvecs data"
   ]
  },
  {
   "cell_type": "code",
   "execution_count": 7,
   "metadata": {},
   "outputs": [
    {
     "name": "stdout",
     "output_type": "stream",
     "text": [
      "Help on built-in function load_data in module pyssg:\n",
      "\n",
      "load_data(...) method of builtins.PyCapsule instance\n",
      "    load_data(arg0: str, arg1: int, arg2: int) -> float\n",
      "    \n",
      "    Load data from SIFT-style binary file\n",
      "\n"
     ]
    }
   ],
   "source": [
    "pyssg.load_data(sift_file, ndata, dim)"
   ]
  },
  {
   "cell_type": "code",
   "execution_count": 4,
   "metadata": {},
   "outputs": [],
   "source": [
    "\n",
    "index = pyssg.IndexSSG(dim, ndata)\n"
   ]
  },
  {
   "cell_type": "code",
   "execution_count": null,
   "metadata": {},
   "outputs": [],
   "source": [
    "# 构造 index\n",
    "index.load(\"ssg-index\", data)"
   ]
  },
  {
   "cell_type": "code",
   "execution_count": null,
   "metadata": {},
   "outputs": [],
   "source": [
    "\n",
    "k, l = 100, 300\n",
    "query = np.random.randn(dim).astype(np.float32)\n",
    "knn = index.search(query, k, l)\n",
    "print(knn)"
   ]
  }
 ],
 "metadata": {
  "kernelspec": {
   "display_name": "Python 3",
   "language": "python",
   "name": "python3"
  },
  "language_info": {
   "codemirror_mode": {
    "name": "ipython",
    "version": 3
   },
   "file_extension": ".py",
   "mimetype": "text/x-python",
   "name": "python",
   "nbconvert_exporter": "python",
   "pygments_lexer": "ipython3",
   "version": "3.10.8"
  },
  "orig_nbformat": 4
 },
 "nbformat": 4,
 "nbformat_minor": 2
}
