{
 "cells": [
  {
   "cell_type": "markdown",
   "metadata": {},
   "source": [
    "## 运行准备"
   ]
  },
  {
   "cell_type": "markdown",
   "metadata": {},
   "source": [
    "### 环境准备"
   ]
  },
  {
   "cell_type": "code",
   "execution_count": 2,
   "metadata": {},
   "outputs": [
    {
     "name": "stdout",
     "output_type": "stream",
     "text": [
      "Get:1 https://packages.microsoft.com/repos/microsoft-ubuntu-focal-prod focal InRelease [3611 B]\n",
      "Hit:2 https://dl.yarnpkg.com/debian stable InRelease                           \u001b[0m\u001b[33m\n",
      "Hit:3 https://repo.anaconda.com/pkgs/misc/debrepo/conda stable InRelease       \n",
      "Hit:4 http://archive.ubuntu.com/ubuntu focal InRelease                         \u001b[0m\u001b[33m\n",
      "Get:5 http://security.ubuntu.com/ubuntu focal-security InRelease [114 kB]      \u001b[0mm\n",
      "Get:6 http://archive.ubuntu.com/ubuntu focal-updates InRelease [114 kB]        \u001b[0m\n",
      "Get:8 http://security.ubuntu.com/ubuntu focal-security/universe amd64 Packages [1089 kB]\u001b[33m\u001b[33m\u001b[33m\u001b[33m\u001b[33m\n",
      "Hit:7 https://packagecloud.io/github/git-lfs/ubuntu focal InRelease          \u001b[0m\n",
      "Get:9 http://archive.ubuntu.com/ubuntu focal-backports InRelease [108 kB]    \u001b[33m\n",
      "Get:10 http://archive.ubuntu.com/ubuntu focal-updates/main amd64 Packages [3430 kB]\n",
      "Get:11 http://security.ubuntu.com/ubuntu focal-security/main amd64 Packages [2942 kB]33m\n",
      "Get:12 http://archive.ubuntu.com/ubuntu focal-updates/universe amd64 Packages [1394 kB]\n",
      "Fetched 9195 kB in 4s (2407 kB/s)                          \u001b[0m\u001b[33m\u001b[33m\u001b[33m\n",
      "Reading package lists... Done\n",
      "Building dependency tree       \n",
      "Reading state information... Done\n",
      "32 packages can be upgraded. Run 'apt list --upgradable' to see them.\n",
      "Reading package lists... Done\n",
      "Building dependency tree       \n",
      "Reading state information... Done\n",
      "g++ is already the newest version (4:9.3.0-1ubuntu2).\n",
      "libboost-dev is already the newest version (1.71.0.0ubuntu2).\n",
      "libgoogle-perftools-dev is already the newest version (2.7-1ubuntu2).\n",
      "cmake is already the newest version (3.16.3-1ubuntu1.20.04.1).\n",
      "0 upgraded, 0 newly installed, 0 to remove and 32 not upgraded.\n",
      "/workspaces/SSG\n",
      "\u001b[0mCMake Deprecation Warning at CMakeLists.txt:1 (cmake_minimum_required):\n",
      "  Compatibility with CMake < 3.5 will be removed from a future version of\n",
      "  CMake.\n",
      "\n",
      "  Update the VERSION argument <min> value or use a ...<max> suffix to tell\n",
      "  CMake that the project does not need compatibility with older versions.\n",
      "\n",
      "\u001b[0m\n",
      "\u001b[0mCMake Deprecation Warning at third_party/pybind11/CMakeLists.txt:8 (cmake_minimum_required):\n",
      "  Compatibility with CMake < 3.5 will be removed from a future version of\n",
      "  CMake.\n",
      "\n",
      "  Update the VERSION argument <min> value or use a ...<max> suffix to tell\n",
      "  CMake that the project does not need compatibility with older versions.\n",
      "\n",
      "\u001b[0m\n",
      "\u001b[0mCMake Deprecation Warning at third_party/pybind11/tools/pybind11Tools.cmake:8 (cmake_minimum_required):\n",
      "  Compatibility with CMake < 3.5 will be removed from a future version of\n",
      "  CMake.\n",
      "\n",
      "  Update the VERSION argument <min> value or use a ...<max> suffix to tell\n",
      "  CMake that the project does not need compatibility with older versions.\n",
      "Call Stack (most recent call first):\n",
      "  third_party/pybind11/CMakeLists.txt:33 (include)\n",
      "\n",
      "\u001b[0m\n",
      "\u001b[33mCMake Warning (dev) at third_party/pybind11/tools/FindPythonLibsNew.cmake:60 (find_package):\n",
      "  Policy CMP0148 is not set: The FindPythonInterp and FindPythonLibs modules\n",
      "  are removed.  Run \"cmake --help-policy CMP0148\" for policy details.  Use\n",
      "  the cmake_policy command to set the policy and suppress this warning.\n",
      "\n",
      "Call Stack (most recent call first):\n",
      "  third_party/pybind11/tools/pybind11Tools.cmake:16 (find_package)\n",
      "  third_party/pybind11/CMakeLists.txt:33 (include)\n",
      "This warning is for project developers.  Use -Wno-dev to suppress it.\n",
      "\u001b[0m\n",
      "-- pybind11 v2.5.0\n",
      "-- Configuring done (0.1s)\n",
      "-- Generating done (0.0s)\n",
      "-- Build files have been written to: /workspaces/SSG/build\n",
      "[  5%] \u001b[32mBuilding CXX object src/CMakeFiles/ssg.dir/index.cpp.o\u001b[0m\n",
      "[ 10%] \u001b[32mBuilding CXX object src/CMakeFiles/ssg.dir/index_ssg.cpp.o\u001b[0m\n",
      "[ 15%] \u001b[32mBuilding CXX object src/CMakeFiles/ssg.dir/index_random.cpp.o\u001b[0m\n",
      "[ 20%] \u001b[32mBuilding CXX object src/CMakeFiles/ssg_s.dir/index.cpp.o\u001b[0m\n",
      "[ 25%] \u001b[32mBuilding CXX object src/CMakeFiles/ssg_s.dir/index_ssg.cpp.o\u001b[0m\n",
      "[ 30%] \u001b[32mBuilding CXX object src/CMakeFiles/ssg_s.dir/index_random.cpp.o\u001b[0m\n",
      "[ 35%] \u001b[32mBuilding CXX object src/CMakeFiles/ssg_s.dir/util.cpp.o\u001b[0m\n",
      "[ 40%] \u001b[32mBuilding CXX object src/CMakeFiles/ssg.dir/util.cpp.o\u001b[0m\n",
      "[ 45%] \u001b[32mBuilding CXX object src/CMakeFiles/pyssg.dir/python.cpp.o\u001b[0m\n",
      "[ 50%] \u001b[32mBuilding CXX object src/CMakeFiles/pyssg.dir/index_random.cpp.o\u001b[0m\n",
      "[ 55%] \u001b[32mBuilding CXX object src/CMakeFiles/pyssg.dir/index.cpp.o\u001b[0m\n",
      "[ 60%] \u001b[32mBuilding CXX object src/CMakeFiles/pyssg.dir/util.cpp.o\u001b[0m\n",
      "[ 65%] \u001b[32mBuilding CXX object src/CMakeFiles/pyssg.dir/index_ssg.cpp.o\u001b[0m\n",
      "[ 70%] \u001b[32m\u001b[1mLinking CXX static library libssg_s.a\u001b[0m\n",
      "[ 70%] Built target ssg_s\n",
      "[ 75%] \u001b[32m\u001b[1mLinking CXX static library libssg.a\u001b[0m\n",
      "[ 75%] Built target ssg\n",
      "[ 80%] \u001b[32mBuilding CXX object tests/CMakeFiles/test_ssg_index.dir/test_ssg_index.cpp.o\u001b[0m\n",
      "[ 85%] \u001b[32mBuilding CXX object tests/CMakeFiles/test_ssg_optimized_search.dir/test_ssg_optimized_search.cpp.o\u001b[0m\n",
      "[ 90%] \u001b[32m\u001b[1mLinking CXX executable test_ssg_index\u001b[0m\n",
      "[ 95%] \u001b[32m\u001b[1mLinking CXX executable test_ssg_optimized_search\u001b[0m\n",
      "[ 95%] Built target test_ssg_optimized_search\n",
      "[ 95%] Built target test_ssg_index\n",
      "[100%] \u001b[32m\u001b[1mLinking CXX shared module pyssg.cpython-38-x86_64-linux-gnu.so\u001b[0m\n",
      "[100%] Built target pyssg\n"
     ]
    }
   ],
   "source": [
    "!sh init.sh"
   ]
  },
  {
   "cell_type": "code",
   "execution_count": 3,
   "metadata": {},
   "outputs": [
    {
     "name": "stdout",
     "output_type": "stream",
     "text": [
      "Processing /workspaces/SSG\n",
      "  Preparing metadata (setup.py) ... \u001b[?25ldone\n",
      "\u001b[?25hBuilding wheels for collected packages: pyssg\n",
      "  Building wheel for pyssg (setup.py) ... \u001b[?25ldone\n",
      "\u001b[?25h  Created wheel for pyssg: filename=pyssg-0.1-cp310-cp310-linux_x86_64.whl size=102682 sha256=dad713536b8e2e45fc708aa5248575e9bfd1f20836d89639dd079db5c9484dd0\n",
      "  Stored in directory: /tmp/pip-ephem-wheel-cache-i13m3zxc/wheels/ec/6e/1e/b6b0a5ab76881d636723508394250141d3535520506f9f2282\n",
      "Successfully built pyssg\n",
      "Installing collected packages: pyssg\n",
      "  Attempting uninstall: pyssg\n",
      "    Found existing installation: pyssg 0.1\n",
      "    Uninstalling pyssg-0.1:\n",
      "      Successfully uninstalled pyssg-0.1\n",
      "Successfully installed pyssg-0.1\n",
      "Requirement already satisfied: numpy in /home/codespace/.local/lib/python3.10/site-packages (1.25.2)\n"
     ]
    }
   ],
   "source": [
    "!pip install .\n",
    "!pip install numpy"
   ]
  },
  {
   "cell_type": "markdown",
   "metadata": {},
   "source": [
    "### 打包 pyssg"
   ]
  },
  {
   "cell_type": "code",
   "execution_count": 6,
   "metadata": {},
   "outputs": [
    {
     "name": "stdout",
     "output_type": "stream",
     "text": [
      "running bdist_wheel\n",
      "running build\n",
      "running build_ext\n",
      "\u001b[0mCMake Deprecation Warning at CMakeLists.txt:1 (cmake_minimum_required):\n",
      "  Compatibility with CMake < 3.5 will be removed from a future version of\n",
      "  CMake.\n",
      "\n",
      "  Update the VERSION argument <min> value or use a ...<max> suffix to tell\n",
      "  CMake that the project does not need compatibility with older versions.\n",
      "\n",
      "\u001b[0m\n",
      "\u001b[0mCMake Deprecation Warning at third_party/pybind11/CMakeLists.txt:8 (cmake_minimum_required):\n",
      "  Compatibility with CMake < 3.5 will be removed from a future version of\n",
      "  CMake.\n",
      "\n",
      "  Update the VERSION argument <min> value or use a ...<max> suffix to tell\n",
      "  CMake that the project does not need compatibility with older versions.\n",
      "\n",
      "\u001b[0m\n",
      "\u001b[0mCMake Deprecation Warning at third_party/pybind11/tools/pybind11Tools.cmake:8 (cmake_minimum_required):\n",
      "  Compatibility with CMake < 3.5 will be removed from a future version of\n",
      "  CMake.\n",
      "\n",
      "  Update the VERSION argument <min> value or use a ...<max> suffix to tell\n",
      "  CMake that the project does not need compatibility with older versions.\n",
      "Call Stack (most recent call first):\n",
      "  third_party/pybind11/CMakeLists.txt:33 (include)\n",
      "\n",
      "\u001b[0m\n",
      "\u001b[33mCMake Warning (dev) at third_party/pybind11/tools/FindPythonLibsNew.cmake:60 (find_package):\n",
      "  Policy CMP0148 is not set: The FindPythonInterp and FindPythonLibs modules\n",
      "  are removed.  Run \"cmake --help-policy CMP0148\" for policy details.  Use\n",
      "  the cmake_policy command to set the policy and suppress this warning.\n",
      "\n",
      "Call Stack (most recent call first):\n",
      "  third_party/pybind11/tools/pybind11Tools.cmake:16 (find_package)\n",
      "  third_party/pybind11/CMakeLists.txt:33 (include)\n",
      "This warning is for project developers.  Use -Wno-dev to suppress it.\n",
      "\u001b[0m\n",
      "-- Found PythonInterp: /home/codespace/.python/current/bin/python (found version \"3.10.8\") \n",
      "-- Found PythonLibs: /opt/python/3.10.8/lib/libpython3.10.so\n",
      "-- pybind11 v2.5.0\n",
      "-- Configuring done (0.2s)\n",
      "-- Generating done (0.0s)\n",
      "-- Build files have been written to: /workspaces/SSG/build/temp.linux-x86_64-cpython-310\n",
      "[ 25%] Built target ssg_s\n",
      "[ 50%] Built target ssg\n",
      "[ 60%] Built target test_ssg_index\n",
      "[ 90%] Built target pyssg\n",
      "[100%] Built target test_ssg_optimized_search\n",
      "/home/codespace/.local/lib/python3.10/site-packages/setuptools/_distutils/cmd.py:66: SetuptoolsDeprecationWarning: setup.py install is deprecated.\n",
      "!!\n",
      "\n",
      "        ********************************************************************************\n",
      "        Please avoid running ``setup.py`` directly.\n",
      "        Instead, use pypa/build, pypa/installer or other\n",
      "        standards-based tools.\n",
      "\n",
      "        See https://blog.ganssle.io/articles/2021/10/setup-py-deprecated.html for details.\n",
      "        ********************************************************************************\n",
      "\n",
      "!!\n",
      "  self.initialize_options()\n",
      "installing to build/bdist.linux-x86_64/wheel\n",
      "running install\n",
      "running install_lib\n",
      "creating build/bdist.linux-x86_64/wheel\n",
      "copying build/lib.linux-x86_64-cpython-310/pyssg.cpython-310-x86_64-linux-gnu.so -> build/bdist.linux-x86_64/wheel\n",
      "running install_egg_info\n",
      "running egg_info\n",
      "writing pyssg.egg-info/PKG-INFO\n",
      "writing dependency_links to pyssg.egg-info/dependency_links.txt\n",
      "writing top-level names to pyssg.egg-info/top_level.txt\n",
      "reading manifest file 'pyssg.egg-info/SOURCES.txt'\n",
      "adding license file 'LICENSE'\n",
      "writing manifest file 'pyssg.egg-info/SOURCES.txt'\n",
      "Copying pyssg.egg-info to build/bdist.linux-x86_64/wheel/pyssg-0.1-py3.10.egg-info\n",
      "running install_scripts\n",
      "creating build/bdist.linux-x86_64/wheel/pyssg-0.1.dist-info/WHEEL\n",
      "creating 'dist/pyssg-0.1-cp310-cp310-linux_x86_64.whl' and adding 'build/bdist.linux-x86_64/wheel' to it\n",
      "adding 'pyssg.cpython-310-x86_64-linux-gnu.so'\n",
      "adding 'pyssg-0.1.dist-info/LICENSE'\n",
      "adding 'pyssg-0.1.dist-info/METADATA'\n",
      "adding 'pyssg-0.1.dist-info/WHEEL'\n",
      "adding 'pyssg-0.1.dist-info/top_level.txt'\n",
      "adding 'pyssg-0.1.dist-info/RECORD'\n",
      "removing build/bdist.linux-x86_64/wheel\n"
     ]
    }
   ],
   "source": [
    "! python setup.py bdist_wheel"
   ]
  },
  {
   "cell_type": "markdown",
   "metadata": {},
   "source": [
    "### 准备数据\n",
    "\n",
    "下载 sift_base.fvecs[huggingface 上，dataset： `qbo-odp/sift1m`]"
   ]
  },
  {
   "cell_type": "code",
   "execution_count": 13,
   "metadata": {},
   "outputs": [
    {
     "name": "stdout",
     "output_type": "stream",
     "text": [
      "Cloning into 'sift1m'...\n",
      "warning: redirecting to https://huggingface.co/datasets/qbo-odp/sift1m/\n",
      "remote: Enumerating objects: 14, done.\u001b[K\n",
      "remote: Counting objects: 100% (14/14), done.\u001b[K\n",
      "remote: Compressing objects: 100% (13/13), done.\u001b[K\n",
      "remote: Total 14 (delta 2), reused 0 (delta 0), pack-reused 0\u001b[K\n",
      "Unpacking objects: 100% (14/14), 2.03 KiB | 519.00 KiB/s, done.\n",
      "Filtering content: 100% (4/4), 550.08 MiB | 11.75 MiB/s, done.\n"
     ]
    }
   ],
   "source": [
    "! git clone http://huggingface.co/datasets/qbo-odp/sift1m"
   ]
  },
  {
   "cell_type": "markdown",
   "metadata": {},
   "source": [
    "### 读取数据"
   ]
  },
  {
   "cell_type": "code",
   "execution_count": null,
   "metadata": {},
   "outputs": [],
   "source": [
    "sift_file = \"sift1m/sift_base.fvecs\""
   ]
  },
  {
   "cell_type": "code",
   "execution_count": 2,
   "metadata": {},
   "outputs": [],
   "source": [
    "import numpy as np\n",
    "def fvecs_read(fname):\n",
    "   data = np.fromfile(fname, dtype=np.float32)\n",
    "   dim = data[0].view(np.int32)\n",
    "   data = data.reshape(-1, dim + 1)\n",
    "   data = np.ascontiguousarray(data[:, 1:])\n",
    "   ndata, dim = data.shape \n",
    "   return data, ndata, dim"
   ]
  },
  {
   "cell_type": "markdown",
   "metadata": {},
   "source": [
    "## ssg 测试"
   ]
  },
  {
   "cell_type": "code",
   "execution_count": 3,
   "metadata": {},
   "outputs": [],
   "source": [
    "import pyssg\n",
    "\n",
    "pyssg.set_seed(1234)"
   ]
  },
  {
   "cell_type": "markdown",
   "metadata": {},
   "source": [
    "### load fvecs data"
   ]
  },
  {
   "cell_type": "code",
   "execution_count": 4,
   "metadata": {},
   "outputs": [
    {
     "name": "stdout",
     "output_type": "stream",
     "text": [
      "optimize graph\n"
     ]
    },
    {
     "name": "stderr",
     "output_type": "stream",
     "text": [
      "Average Degree = 34\n"
     ]
    }
   ],
   "source": [
    "data_file = \"data/glove_50k_50.fvecs\"\n",
    "ssg_index = \"data/glove.500.ssg\"\n",
    "dataset,ndata, dim = fvecs_read(data_file)\n",
    "# pyssg.load_data(ssg_index, ndata, dim) \n",
    "\n",
    "index = pyssg.IndexSSG(dim, ndata)\n",
    "index.load(ssg_index, dataset)    "
   ]
  },
  {
   "cell_type": "code",
   "execution_count": 5,
   "metadata": {},
   "outputs": [
    {
     "name": "stdout",
     "output_type": "stream",
     "text": [
      "0.78704 0.72151 0.29148 -0.056527 0.31683 0.47172 0.023461 0.69568 0.20782 0.60985 -0.22386 0.7481 -2.6208 0.20117 -0.48104 0.12897 0.035239 -0.24486 -0.36088 0.026686 0.28978 -0.10698 -0.34621 0.021053 0.54514 -1.0958 -0.274 0.2233 1.0827 -0.029018 -0.84029 0.58619 -0.36511 0.34016 0.89615 0.32757 0.24267 0.68404 -0.34374 0.13583 -2.2162 -0.42537 0.46157 0.88626 -0.22014 0.025599 -0.38615 0.080107 -0.075323 -0.61461 \n"
     ]
    },
    {
     "data": {
      "text/plain": [
       "24.604753494262695"
      ]
     },
     "execution_count": 5,
     "metadata": {},
     "output_type": "execute_result"
    }
   ],
   "source": [
    "rr = index.norm(dataset)\n",
    "rr"
   ]
  },
  {
   "cell_type": "code",
   "execution_count": 6,
   "metadata": {},
   "outputs": [
    {
     "data": {
      "text/plain": [
       "4.960317882380392"
      ]
     },
     "execution_count": 6,
     "metadata": {},
     "output_type": "execute_result"
    }
   ],
   "source": [
    "import math\n",
    "math.sqrt(rr)"
   ]
  },
  {
   "cell_type": "code",
   "execution_count": 7,
   "metadata": {},
   "outputs": [
    {
     "data": {
      "text/plain": [
       "4.7930117"
      ]
     },
     "execution_count": 7,
     "metadata": {},
     "output_type": "execute_result"
    }
   ],
   "source": [
    "np.linalg.norm(dataset[0])"
   ]
  },
  {
   "cell_type": "code",
   "execution_count": 8,
   "metadata": {},
   "outputs": [
    {
     "data": {
      "text/plain": [
       "(array([ 0.78704 ,  0.72151 ,  0.29148 , -0.056527,  0.31683 ,  0.47172 ,\n",
       "         0.023461,  0.69568 ,  0.20782 ,  0.60985 , -0.22386 ,  0.7481  ,\n",
       "        -2.6208  ,  0.20117 , -0.48104 ,  0.12897 ,  0.035239, -0.24486 ,\n",
       "        -0.36088 ,  0.026686,  0.28978 , -0.10698 , -0.34621 ,  0.021053,\n",
       "         0.54514 , -1.0958  , -0.274   ,  0.2233  ,  1.0827  , -0.029018,\n",
       "        -0.84029 ,  0.58619 , -0.36511 ,  0.34016 ,  0.89615 ,  0.32757 ,\n",
       "         0.24267 ,  0.68404 , -0.34374 ,  0.13583 , -2.2162  , -0.42537 ,\n",
       "         0.46157 ,  0.88626 , -0.22014 ,  0.025599, -0.38615 ,  0.080107,\n",
       "        -0.075323, -0.61461 ], dtype=float32),\n",
       " 50)"
      ]
     },
     "execution_count": 8,
     "metadata": {},
     "output_type": "execute_result"
    }
   ],
   "source": [
    "dataset[0], len(dataset[0])"
   ]
  },
  {
   "cell_type": "code",
   "execution_count": 9,
   "metadata": {},
   "outputs": [
    {
     "name": "stdout",
     "output_type": "stream",
     "text": [
      "[0, 3, 1332, 1607, 2, 3629, 422, 94, 578, 12, 23, 10462, 610, 8359, 2257, 9, 370, 6352, 644, 319, 1635, 305, 3949, 5, 996, 1253, 442, 4660, 3413, 4380, 14, 8740, 193, 904, 7561, 141, 95, 17102, 4397, 2759, 3476, 60, 2951, 12213, 292, 667, 12434, 5909, 2527, 10873, 17499, 4319, 4759, 1007, 9992, 19, 6059, 1800, 4562, 4889, 1, 1575, 7116, 5049, 7737, 8965, 2067, 3272, 8589, 1404, 1758, 1821, 597, 418, 9684, 943, 2700, 13329, 13054, 871, 4170, 304, 2846, 14983, 4388, 6457, 751, 227, 4104, 17287, 11848, 14560, 116, 4021, 11016, 2528, 1200, 6019, 1744, 16635]\n"
     ]
    }
   ],
   "source": [
    "\n",
    "k, l = 100, 300\n",
    "# query = np.random.randn(dim).astype(np.float32)\n",
    "query = dataset[0]\n",
    "knn = index.search(query, k, l,0,0)\n",
    "print(knn)\n"
   ]
  },
  {
   "cell_type": "code",
   "execution_count": 10,
   "metadata": {},
   "outputs": [
    {
     "data": {
      "text/plain": [
       "array([    0,     1,     2,     3,     5,     9,    12,    14,    19,\n",
       "          23,    60,    94,    95,   116,   141,   193,   227,   292,\n",
       "         304,   305,   319,   370,   418,   422,   442,   578,   597,\n",
       "         610,   644,   667,   751,   871,   904,   943,   996,  1007,\n",
       "        1200,  1253,  1332,  1404,  1575,  1607,  1635,  1744,  1758,\n",
       "        1800,  1821,  2067,  2257,  2527,  2528,  2700,  2759,  2846,\n",
       "        2951,  3272,  3413,  3476,  3629,  3949,  4021,  4104,  4170,\n",
       "        4319,  4380,  4388,  4397,  4562,  4660,  4759,  4889,  5049,\n",
       "        5909,  6019,  6059,  6352,  6457,  7116,  7561,  7737,  8359,\n",
       "        8589,  8740,  8965,  9684,  9992, 10462, 10873, 11016, 11848,\n",
       "       12213, 12434, 13054, 13329, 14560, 14983, 16635, 17102, 17287,\n",
       "       17499])"
      ]
     },
     "execution_count": 10,
     "metadata": {},
     "output_type": "execute_result"
    }
   ],
   "source": [
    "x = sorted(knn)\n",
    "np.array(x)"
   ]
  },
  {
   "cell_type": "code",
   "execution_count": null,
   "metadata": {},
   "outputs": [
    {
     "ename": "",
     "evalue": "",
     "output_type": "error",
     "traceback": [
      "\u001b[1;31mCannot execute code, session has been disposed. Please try restarting the Kernel."
     ]
    },
    {
     "ename": "",
     "evalue": "",
     "output_type": "error",
     "traceback": [
      "\u001b[1;31mThe Kernel crashed while executing code in the the current cell or a previous cell. Please review the code in the cell(s) to identify a possible cause of the failure. Click <a href='https://aka.ms/vscodeJupyterKernelCrash'>here</a> for more info. View Jupyter <a href='command:jupyter.viewOutput'>log</a> for further details."
     ]
    },
    {
     "ename": "",
     "evalue": "",
     "output_type": "error",
     "traceback": [
      "\u001b[1;31mCannot execute code, session has been disposed. Please try restarting the Kernel."
     ]
    },
    {
     "ename": "",
     "evalue": "",
     "output_type": "error",
     "traceback": [
      "\u001b[1;31mThe Kernel crashed while executing code in the the current cell or a previous cell. Please review the code in the cell(s) to identify a possible cause of the failure. Click <a href='https://aka.ms/vscodeJupyterKernelCrash'>here</a> for more info. View Jupyter <a href='command:jupyter.viewOutput'>log</a> for further details."
     ]
    },
    {
     "ename": "",
     "evalue": "",
     "output_type": "error",
     "traceback": [
      "\u001b[1;31mCannot execute code, session has been disposed. Please try restarting the Kernel."
     ]
    },
    {
     "ename": "",
     "evalue": "",
     "output_type": "error",
     "traceback": [
      "\u001b[1;31mThe Kernel crashed while executing code in the the current cell or a previous cell. Please review the code in the cell(s) to identify a possible cause of the failure. Click <a href='https://aka.ms/vscodeJupyterKernelCrash'>here</a> for more info. View Jupyter <a href='command:jupyter.viewOutput'>log</a> for further details."
     ]
    }
   ],
   "source": [
    "cknn = index.search(query, k, l,1,0)\n",
    "print(cknn)"
   ]
  },
  {
   "cell_type": "code",
   "execution_count": null,
   "metadata": {},
   "outputs": [],
   "source": []
  }
 ],
 "metadata": {
  "kernelspec": {
   "display_name": "Python 3",
   "language": "python",
   "name": "python3"
  },
  "language_info": {
   "codemirror_mode": {
    "name": "ipython",
    "version": 3
   },
   "file_extension": ".py",
   "mimetype": "text/x-python",
   "name": "python",
   "nbconvert_exporter": "python",
   "pygments_lexer": "ipython3",
   "version": "3.10.8"
  },
  "orig_nbformat": 4
 },
 "nbformat": 4,
 "nbformat_minor": 2
}
