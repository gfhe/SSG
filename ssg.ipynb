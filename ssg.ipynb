{
 "cells": [
  {
   "cell_type": "markdown",
   "metadata": {},
   "source": [
    "## 运行准备"
   ]
  },
  {
   "cell_type": "markdown",
   "metadata": {},
   "source": [
    "### 环境准备"
   ]
  },
  {
   "cell_type": "code",
   "execution_count": 4,
   "metadata": {},
   "outputs": [
    {
     "name": "stdout",
     "output_type": "stream",
     "text": [
      "Processing /workspaces/SSG\n",
      "  Preparing metadata (setup.py) ... \u001b[?25ldone\n",
      "\u001b[?25hBuilding wheels for collected packages: pyssg\n",
      "  Building wheel for pyssg (setup.py) ... \u001b[?25lerror\n",
      "  \u001b[1;31merror\u001b[0m: \u001b[1msubprocess-exited-with-error\u001b[0m\n",
      "  \n",
      "  \u001b[31m×\u001b[0m \u001b[32mpython setup.py bdist_wheel\u001b[0m did not run successfully.\n",
      "  \u001b[31m│\u001b[0m exit code: \u001b[1;36m1\u001b[0m\n",
      "  \u001b[31m╰─>\u001b[0m \u001b[31m[233 lines of output]\u001b[0m\n",
      "  \u001b[31m   \u001b[0m running bdist_wheel\n",
      "  \u001b[31m   \u001b[0m running build\n",
      "  \u001b[31m   \u001b[0m running build_ext\n",
      "  \u001b[31m   \u001b[0m \u001b[0mCMake Deprecation Warning at CMakeLists.txt:1 (cmake_minimum_required):\n",
      "  \u001b[31m   \u001b[0m   Compatibility with CMake < 3.5 will be removed from a future version of\n",
      "  \u001b[31m   \u001b[0m   CMake.\n",
      "  \u001b[31m   \u001b[0m \n",
      "  \u001b[31m   \u001b[0m   Update the VERSION argument <min> value or use a ...<max> suffix to tell\n",
      "  \u001b[31m   \u001b[0m   CMake that the project does not need compatibility with older versions.\n",
      "  \u001b[31m   \u001b[0m \n",
      "  \u001b[31m   \u001b[0m \u001b[0m\n",
      "  \u001b[31m   \u001b[0m \u001b[0mCMake Deprecation Warning at third_party/pybind11/CMakeLists.txt:8 (cmake_minimum_required):\n",
      "  \u001b[31m   \u001b[0m   Compatibility with CMake < 3.5 will be removed from a future version of\n",
      "  \u001b[31m   \u001b[0m   CMake.\n",
      "  \u001b[31m   \u001b[0m \n",
      "  \u001b[31m   \u001b[0m   Update the VERSION argument <min> value or use a ...<max> suffix to tell\n",
      "  \u001b[31m   \u001b[0m   CMake that the project does not need compatibility with older versions.\n",
      "  \u001b[31m   \u001b[0m \n",
      "  \u001b[31m   \u001b[0m \u001b[0m\n",
      "  \u001b[31m   \u001b[0m \u001b[0mCMake Deprecation Warning at third_party/pybind11/tools/pybind11Tools.cmake:8 (cmake_minimum_required):\n",
      "  \u001b[31m   \u001b[0m   Compatibility with CMake < 3.5 will be removed from a future version of\n",
      "  \u001b[31m   \u001b[0m   CMake.\n",
      "  \u001b[31m   \u001b[0m \n",
      "  \u001b[31m   \u001b[0m   Update the VERSION argument <min> value or use a ...<max> suffix to tell\n",
      "  \u001b[31m   \u001b[0m   CMake that the project does not need compatibility with older versions.\n",
      "  \u001b[31m   \u001b[0m Call Stack (most recent call first):\n",
      "  \u001b[31m   \u001b[0m   third_party/pybind11/CMakeLists.txt:33 (include)\n",
      "  \u001b[31m   \u001b[0m \n",
      "  \u001b[31m   \u001b[0m \u001b[0m\n",
      "  \u001b[31m   \u001b[0m \u001b[33mCMake Warning (dev) at third_party/pybind11/tools/FindPythonLibsNew.cmake:60 (find_package):\n",
      "  \u001b[31m   \u001b[0m   Policy CMP0148 is not set: The FindPythonInterp and FindPythonLibs modules\n",
      "  \u001b[31m   \u001b[0m   are removed.  Run \"cmake --help-policy CMP0148\" for policy details.  Use\n",
      "  \u001b[31m   \u001b[0m   the cmake_policy command to set the policy and suppress this warning.\n",
      "  \u001b[31m   \u001b[0m \n",
      "  \u001b[31m   \u001b[0m Call Stack (most recent call first):\n",
      "  \u001b[31m   \u001b[0m   third_party/pybind11/tools/pybind11Tools.cmake:16 (find_package)\n",
      "  \u001b[31m   \u001b[0m   third_party/pybind11/CMakeLists.txt:33 (include)\n",
      "  \u001b[31m   \u001b[0m This warning is for project developers.  Use -Wno-dev to suppress it.\n",
      "  \u001b[31m   \u001b[0m \u001b[0m\n",
      "  \u001b[31m   \u001b[0m -- pybind11 v2.5.0\n",
      "  \u001b[31m   \u001b[0m -- Configuring done (0.2s)\n",
      "  \u001b[31m   \u001b[0m -- Generating done (0.0s)\n",
      "  \u001b[31m   \u001b[0m -- Build files have been written to: /workspaces/SSG/build/temp.linux-x86_64-cpython-310\n",
      "  \u001b[31m   \u001b[0m [  4%] \u001b[32mBuilding CXX object src/CMakeFiles/ssg_s.dir/index_graph.cpp.o\u001b[0m\n",
      "  \u001b[31m   \u001b[0m [  8%] \u001b[32mBuilding CXX object src/CMakeFiles/ssg.dir/index_graph.cpp.o\u001b[0m\n",
      "  \u001b[31m   \u001b[0m /workspaces/SSG/src/index_graph.cpp: In member function ‘void efanna2e::IndexGraph::update(const efanna2e::Parameters&)’:\n",
      "  \u001b[31m   \u001b[0m /workspaces/SSG/src/index_graph.cpp:78:39: error: no matching function for call to ‘std::lock_guard<std::mutex>::lock_guard(pthread_mutex_t&)’\n",
      "  \u001b[31m   \u001b[0m    78 |           LockGuard guard(nhood_o.lock);\n",
      "  \u001b[31m   \u001b[0m       |                                       ^\n",
      "  \u001b[31m   \u001b[0m In file included from /usr/include/c++/9/mutex:43,\n",
      "  \u001b[31m   \u001b[0m                  from /workspaces/SSG/include/neighbor.h:13,\n",
      "  \u001b[31m   \u001b[0m                  from /workspaces/SSG/include/index_graph.h:17,\n",
      "  \u001b[31m   \u001b[0m                  from /workspaces/SSG/src/index_graph.cpp:7:\n",
      "  \u001b[31m   \u001b[0m /usr/include/c++/9/bits/std_mutex.h:161:7: note: candidate: ‘std::lock_guard<_Mutex>::lock_guard(std::lock_guard<_Mutex>::mutex_type&, std::adopt_lock_t) [with _Mutex = std::mutex; std::lock_guard<_Mutex>::mutex_type = std::mutex]’\n",
      "  \u001b[31m   \u001b[0m   161 |       lock_guard(mutex_type& __m, adopt_lock_t) noexcept : _M_device(__m)\n",
      "  \u001b[31m   \u001b[0m       |       ^~~~~~~~~~\n",
      "  \u001b[31m   \u001b[0m /usr/include/c++/9/bits/std_mutex.h:161:7: note:   candidate expects 2 arguments, 1 provided\n",
      "  \u001b[31m   \u001b[0m /usr/include/c++/9/bits/std_mutex.h:158:16: note: candidate: ‘std::lock_guard<_Mutex>::lock_guard(std::lock_guard<_Mutex>::mutex_type&) [with _Mutex = std::mutex; std::lock_guard<_Mutex>::mutex_type = std::mutex]’\n",
      "  \u001b[31m   \u001b[0m   158 |       explicit lock_guard(mutex_type& __m) : _M_device(__m)\n",
      "  \u001b[31m   \u001b[0m       |                ^~~~~~~~~~\n",
      "  \u001b[31m   \u001b[0m /usr/include/c++/9/bits/std_mutex.h:158:39: note:   no known conversion for argument 1 from ‘pthread_mutex_t’ to ‘std::lock_guard<std::mutex>::mutex_type&’ {aka ‘std::mutex&’}\n",
      "  \u001b[31m   \u001b[0m   158 |       explicit lock_guard(mutex_type& __m) : _M_device(__m)\n",
      "  \u001b[31m   \u001b[0m       |                           ~~~~~~~~~~~~^~~\n",
      "  \u001b[31m   \u001b[0m /workspaces/SSG/src/index_graph.cpp:89:39: error: no matching function for call to ‘std::lock_guard<std::mutex>::lock_guard(pthread_mutex_t&)’\n",
      "  \u001b[31m   \u001b[0m    89 |           LockGuard guard(nhood_o.lock);\n",
      "  \u001b[31m   \u001b[0m       |                                       ^\n",
      "  \u001b[31m   \u001b[0m In file included from /usr/include/c++/9/mutex:43,\n",
      "  \u001b[31m   \u001b[0m                  from /workspaces/SSG/include/neighbor.h:13,\n",
      "  \u001b[31m   \u001b[0m                  from /workspaces/SSG/include/index_graph.h:17,\n",
      "  \u001b[31m   \u001b[0m                  from /workspaces/SSG/src/index_graph.cpp:7:\n",
      "  \u001b[31m   \u001b[0m /usr/include/c++/9/bits/std_mutex.h:161:7: note: candidate: ‘std::lock_guard<_Mutex>::lock_guard(std::lock_guard<_Mutex>::mutex_type&, std::adopt_lock_t) [with _Mutex = std::mutex; std::lock_guard<_Mutex>::mutex_type = std::mutex]’\n",
      "  \u001b[31m   \u001b[0m   161 |       lock_guard(mutex_type& __m, adopt_lock_t) noexcept : _M_device(__m)\n",
      "  \u001b[31m   \u001b[0m       |       ^~~~~~~~~~\n",
      "  \u001b[31m   \u001b[0m /usr/include/c++/9/bits/std_mutex.h:161:7: note:   candidate expects 2 arguments, 1 provided\n",
      "  \u001b[31m   \u001b[0m /usr/include/c++/9/bits/std_mutex.h:158:16: note: candidate: ‘std::lock_guard<_Mutex>::lock_guard(std::lock_guard<_Mutex>::mutex_type&) [with _Mutex = std::mutex; std::lock_guard<_Mutex>::mutex_type = std::mutex]’\n",
      "  \u001b[31m   \u001b[0m   158 |       explicit lock_guard(mutex_type& __m) : _M_device(__m)\n",
      "  \u001b[31m   \u001b[0m       |                ^~~~~~~~~~\n",
      "  \u001b[31m   \u001b[0m /usr/include/c++/9/bits/std_mutex.h:158:39: note:   no known conversion for argument 1 from ‘pthread_mutex_t’ to ‘std::lock_guard<std::mutex>::mutex_type&’ {aka ‘std::mutex&’}\n",
      "  \u001b[31m   \u001b[0m   158 |       explicit lock_guard(mutex_type& __m) : _M_device(__m)\n",
      "  \u001b[31m   \u001b[0m       |                           ~~~~~~~~~~~~^~~\n",
      "  \u001b[31m   \u001b[0m /workspaces/SSG/src/index_graph.cpp: In member function ‘void efanna2e::IndexGraph::parallel_graph_insert(unsigned int, efanna2e::Neighbor, efanna2e::IndexGraph::LockGraph&, size_t)’:\n",
      "  \u001b[31m   \u001b[0m /workspaces/SSG/src/index_graph.cpp:380:29: error: no matching function for call to ‘std::lock_guard<std::mutex>::lock_guard(pthread_mutex_t&)’\n",
      "  \u001b[31m   \u001b[0m   380 |   LockGuard guard(g[id].lock);\n",
      "  \u001b[31m   \u001b[0m       |                             ^\n",
      "  \u001b[31m   \u001b[0m In file included from /usr/include/c++/9/mutex:43,\n",
      "  \u001b[31m   \u001b[0m                  from /workspaces/SSG/include/neighbor.h:13,\n",
      "  \u001b[31m   \u001b[0m                  from /workspaces/SSG/include/index_graph.h:17,\n",
      "  \u001b[31m   \u001b[0m                  from /workspaces/SSG/src/index_graph.cpp:7:\n",
      "  \u001b[31m   \u001b[0m /usr/include/c++/9/bits/std_mutex.h:161:7: note: candidate: ‘std::lock_guard<_Mutex>::lock_guard(std::lock_guard<_Mutex>::mutex_type&, std::adopt_lock_t) [with _Mutex = std::mutex; std::lock_guard<_Mutex>::mutex_type = std::mutex]’\n",
      "  \u001b[31m   \u001b[0m   161 |       lock_guard(mutex_type& __m, adopt_lock_t) noexcept : _M_device(__m)\n",
      "  \u001b[31m   \u001b[0m       |       ^~~~~~~~~~\n",
      "  \u001b[31m   \u001b[0m /usr/include/c++/9/bits/std_mutex.h:161:7: note:   candidate expects 2 arguments, 1 provided\n",
      "  \u001b[31m   \u001b[0m /usr/include/c++/9/bits/std_mutex.h:158:16: note: candidate: ‘std::lock_guard<_Mutex>::lock_guard(std::lock_guard<_Mutex>::mutex_type&) [with _Mutex = std::mutex; std::lock_guard<_Mutex>::mutex_type = std::mutex]’\n",
      "  \u001b[31m   \u001b[0m   158 |       explicit lock_guard(mutex_type& __m) : _M_device(__m)\n",
      "  \u001b[31m   \u001b[0m       |                ^~~~~~~~~~\n",
      "  \u001b[31m   \u001b[0m /usr/include/c++/9/bits/std_mutex.h:158:39: note:   no known conversion for argument 1 from ‘pthread_mutex_t’ to ‘std::lock_guard<std::mutex>::mutex_type&’ {aka ‘std::mutex&’}\n",
      "  \u001b[31m   \u001b[0m   158 |       explicit lock_guard(mutex_type& __m) : _M_device(__m)\n",
      "  \u001b[31m   \u001b[0m       |                           ~~~~~~~~~~~~^~~\n",
      "  \u001b[31m   \u001b[0m /workspaces/SSG/src/index_graph.cpp: In member function ‘void efanna2e::IndexGraph::get_neighbor_to_add(const float*, const efanna2e::Parameters&, efanna2e::IndexGraph::LockGraph&, std::mt19937&, std::vector<efanna2e::Neighbor>&, unsigned int)’:\n",
      "  \u001b[31m   \u001b[0m /workspaces/SSG/src/index_graph.cpp:463:32: error: no matching function for call to ‘std::lock_guard<std::mutex>::lock_guard(pthread_mutex_t&)’\n",
      "  \u001b[31m   \u001b[0m   463 |       LockGuard guard(g[n].lock);//lock start\n",
      "  \u001b[31m   \u001b[0m       |                                ^\n",
      "  \u001b[31m   \u001b[0m In file included from /usr/include/c++/9/mutex:43,\n",
      "  \u001b[31m   \u001b[0m                  from /workspaces/SSG/include/neighbor.h:13,\n",
      "  \u001b[31m   \u001b[0m                  from /workspaces/SSG/include/index_graph.h:17,\n",
      "  \u001b[31m   \u001b[0m                  from /workspaces/SSG/src/index_graph.cpp:7:\n",
      "  \u001b[31m   \u001b[0m /usr/include/c++/9/bits/std_mutex.h:161:7: note: candidate: ‘std::lock_guard<_Mutex>::lock_guard(std::lock_guard<_Mutex>::mutex_type&, std::adopt_lock_t) [with _Mutex = std::mutex; std::lock_guard<_Mutex>::mutex_type = std::mutex]’\n",
      "  \u001b[31m   \u001b[0m   161 |       lock_guard(mutex_type& __m, adopt_lock_t) noexcept : _M_device(__m)\n",
      "  \u001b[31m   \u001b[0m       |       ^~~~~~~~~~\n",
      "  \u001b[31m   \u001b[0m /usr/include/c++/9/bits/std_mutex.h:161:7: note:   candidate expects 2 arguments, 1 provided\n",
      "  \u001b[31m   \u001b[0m /usr/include/c++/9/bits/std_mutex.h:158:16: note: candidate: ‘std::lock_guard<_Mutex>::lock_guard(std::lock_guard<_Mutex>::mutex_type&) [with _Mutex = std::mutex; std::lock_guard<_Mutex>::mutex_type = std::mutex]’\n",
      "  \u001b[31m   \u001b[0m   158 |       explicit lock_guard(mutex_type& __m) : _M_device(__m)\n",
      "  \u001b[31m   \u001b[0m       |                ^~~~~~~~~~\n",
      "  \u001b[31m   \u001b[0m /usr/include/c++/9/bits/std_mutex.h:158:39: note:   no known conversion for argument 1 from ‘pthread_mutex_t’ to ‘std::lock_guard<std::mutex>::mutex_type&’ {aka ‘std::mutex&’}\n",
      "  \u001b[31m   \u001b[0m   158 |       explicit lock_guard(mutex_type& __m) : _M_device(__m)\n",
      "  \u001b[31m   \u001b[0m       |                           ~~~~~~~~~~~~^~~\n",
      "  \u001b[31m   \u001b[0m /workspaces/SSG/src/index_graph.cpp: In member function ‘void efanna2e::IndexGraph::update(const efanna2e::Parameters&)’:\n",
      "  \u001b[31m   \u001b[0m /workspaces/SSG/src/index_graph.cpp:78:39: error: no matching function for call to ‘std::lock_guard<std::mutex>::lock_guard(pthread_mutex_t&)’\n",
      "  \u001b[31m   \u001b[0m    78 |           LockGuard guard(nhood_o.lock);\n",
      "  \u001b[31m   \u001b[0m       |                                       ^\n",
      "  \u001b[31m   \u001b[0m In file included from /usr/include/c++/9/mutex:43,\n",
      "  \u001b[31m   \u001b[0m                  from /workspaces/SSG/include/neighbor.h:13,\n",
      "  \u001b[31m   \u001b[0m                  from /workspaces/SSG/include/index_graph.h:17,\n",
      "  \u001b[31m   \u001b[0m                  from /workspaces/SSG/src/index_graph.cpp:7:\n",
      "  \u001b[31m   \u001b[0m /usr/include/c++/9/bits/std_mutex.h:161:7: note: candidate: ‘std::lock_guard<_Mutex>::lock_guard(std::lock_guard<_Mutex>::mutex_type&, std::adopt_lock_t) [with _Mutex = std::mutex; std::lock_guard<_Mutex>::mutex_type = std::mutex]’\n",
      "  \u001b[31m   \u001b[0m   161 |       lock_guard(mutex_type& __m, adopt_lock_t) noexcept : _M_device(__m)\n",
      "  \u001b[31m   \u001b[0m       |       ^~~~~~~~~~\n",
      "  \u001b[31m   \u001b[0m /usr/include/c++/9/bits/std_mutex.h:161:7: note:   candidate expects 2 arguments, 1 provided\n",
      "  \u001b[31m   \u001b[0m /usr/include/c++/9/bits/std_mutex.h:158:16: note: candidate: ‘std::lock_guard<_Mutex>::lock_guard(std::lock_guard<_Mutex>::mutex_type&) [with _Mutex = std::mutex; std::lock_guard<_Mutex>::mutex_type = std::mutex]’\n",
      "  \u001b[31m   \u001b[0m   158 |       explicit lock_guard(mutex_type& __m) : _M_device(__m)\n",
      "  \u001b[31m   \u001b[0m       |                ^~~~~~~~~~\n",
      "  \u001b[31m   \u001b[0m /usr/include/c++/9/bits/std_mutex.h:158:39: note:   no known conversion for argument 1 from ‘pthread_mutex_t’ to ‘std::lock_guard<std::mutex>::mutex_type&’ {aka ‘std::mutex&’}\n",
      "  \u001b[31m   \u001b[0m   158 |       explicit lock_guard(mutex_type& __m) : _M_device(__m)\n",
      "  \u001b[31m   \u001b[0m       |                           ~~~~~~~~~~~~^~~\n",
      "  \u001b[31m   \u001b[0m /workspaces/SSG/src/index_graph.cpp:89:39: error: no matching function for call to ‘std::lock_guard<std::mutex>::lock_guard(pthread_mutex_t&)’\n",
      "  \u001b[31m   \u001b[0m    89 |           LockGuard guard(nhood_o.lock);\n",
      "  \u001b[31m   \u001b[0m       |                                       ^\n",
      "  \u001b[31m   \u001b[0m In file included from /usr/include/c++/9/mutex:43,\n",
      "  \u001b[31m   \u001b[0m                  from /workspaces/SSG/include/neighbor.h:13,\n",
      "  \u001b[31m   \u001b[0m                  from /workspaces/SSG/include/index_graph.h:17,\n",
      "  \u001b[31m   \u001b[0m                  from /workspaces/SSG/src/index_graph.cpp:7:\n",
      "  \u001b[31m   \u001b[0m /usr/include/c++/9/bits/std_mutex.h:161:7: note: candidate: ‘std::lock_guard<_Mutex>::lock_guard(std::lock_guard<_Mutex>::mutex_type&, std::adopt_lock_t) [with _Mutex = std::mutex; std::lock_guard<_Mutex>::mutex_type = std::mutex]’\n",
      "  \u001b[31m   \u001b[0m   161 |       lock_guard(mutex_type& __m, adopt_lock_t) noexcept : _M_device(__m)\n",
      "  \u001b[31m   \u001b[0m       |       ^~~~~~~~~~\n",
      "  \u001b[31m   \u001b[0m /usr/include/c++/9/bits/std_mutex.h:161:7: note:   candidate expects 2 arguments, 1 provided\n",
      "  \u001b[31m   \u001b[0m /usr/include/c++/9/bits/std_mutex.h:158:16: note: candidate: ‘std::lock_guard<_Mutex>::lock_guard(std::lock_guard<_Mutex>::mutex_type&) [with _Mutex = std::mutex; std::lock_guard<_Mutex>::mutex_type = std::mutex]’\n",
      "  \u001b[31m   \u001b[0m   158 |       explicit lock_guard(mutex_type& __m) : _M_device(__m)\n",
      "  \u001b[31m   \u001b[0m       |                ^~~~~~~~~~\n",
      "  \u001b[31m   \u001b[0m /usr/include/c++/9/bits/std_mutex.h:158:39: note:   no known conversion for argument 1 from ‘pthread_mutex_t’ to ‘std::lock_guard<std::mutex>::mutex_type&’ {aka ‘std::mutex&’}\n",
      "  \u001b[31m   \u001b[0m   158 |       explicit lock_guard(mutex_type& __m) : _M_device(__m)\n",
      "  \u001b[31m   \u001b[0m       |                           ~~~~~~~~~~~~^~~\n",
      "  \u001b[31m   \u001b[0m /workspaces/SSG/src/index_graph.cpp: In member function ‘void efanna2e::IndexGraph::parallel_graph_insert(unsigned int, efanna2e::Neighbor, efanna2e::IndexGraph::LockGraph&, size_t)’:\n",
      "  \u001b[31m   \u001b[0m /workspaces/SSG/src/index_graph.cpp:380:29: error: no matching function for call to ‘std::lock_guard<std::mutex>::lock_guard(pthread_mutex_t&)’\n",
      "  \u001b[31m   \u001b[0m   380 |   LockGuard guard(g[id].lock);\n",
      "  \u001b[31m   \u001b[0m       |                             ^\n",
      "  \u001b[31m   \u001b[0m In file included from /usr/include/c++/9/mutex:43,\n",
      "  \u001b[31m   \u001b[0m                  from /workspaces/SSG/include/neighbor.h:13,\n",
      "  \u001b[31m   \u001b[0m                  from /workspaces/SSG/include/index_graph.h:17,\n",
      "  \u001b[31m   \u001b[0m                  from /workspaces/SSG/src/index_graph.cpp:7:\n",
      "  \u001b[31m   \u001b[0m /usr/include/c++/9/bits/std_mutex.h:161:7: note: candidate: ‘std::lock_guard<_Mutex>::lock_guard(std::lock_guard<_Mutex>::mutex_type&, std::adopt_lock_t) [with _Mutex = std::mutex; std::lock_guard<_Mutex>::mutex_type = std::mutex]’\n",
      "  \u001b[31m   \u001b[0m   161 |       lock_guard(mutex_type& __m, adopt_lock_t) noexcept : _M_device(__m)\n",
      "  \u001b[31m   \u001b[0m       |       ^~~~~~~~~~\n",
      "  \u001b[31m   \u001b[0m /usr/include/c++/9/bits/std_mutex.h:161:7: note:   candidate expects 2 arguments, 1 provided\n",
      "  \u001b[31m   \u001b[0m /usr/include/c++/9/bits/std_mutex.h:158:16: note: candidate: ‘std::lock_guard<_Mutex>::lock_guard(std::lock_guard<_Mutex>::mutex_type&) [with _Mutex = std::mutex; std::lock_guard<_Mutex>::mutex_type = std::mutex]’\n",
      "  \u001b[31m   \u001b[0m   158 |       explicit lock_guard(mutex_type& __m) : _M_device(__m)\n",
      "  \u001b[31m   \u001b[0m       |                ^~~~~~~~~~\n",
      "  \u001b[31m   \u001b[0m /usr/include/c++/9/bits/std_mutex.h:158:39: note:   no known conversion for argument 1 from ‘pthread_mutex_t’ to ‘std::lock_guard<std::mutex>::mutex_type&’ {aka ‘std::mutex&’}\n",
      "  \u001b[31m   \u001b[0m   158 |       explicit lock_guard(mutex_type& __m) : _M_device(__m)\n",
      "  \u001b[31m   \u001b[0m       |                           ~~~~~~~~~~~~^~~\n",
      "  \u001b[31m   \u001b[0m /workspaces/SSG/src/index_graph.cpp: In member function ‘void efanna2e::IndexGraph::get_neighbor_to_add(const float*, const efanna2e::Parameters&, efanna2e::IndexGraph::LockGraph&, std::mt19937&, std::vector<efanna2e::Neighbor>&, unsigned int)’:\n",
      "  \u001b[31m   \u001b[0m /workspaces/SSG/src/index_graph.cpp:463:32: error: no matching function for call to ‘std::lock_guard<std::mutex>::lock_guard(pthread_mutex_t&)’\n",
      "  \u001b[31m   \u001b[0m   463 |       LockGuard guard(g[n].lock);//lock start\n",
      "  \u001b[31m   \u001b[0m       |                                ^\n",
      "  \u001b[31m   \u001b[0m In file included from /usr/include/c++/9/mutex:43,\n",
      "  \u001b[31m   \u001b[0m                  from /workspaces/SSG/include/neighbor.h:13,\n",
      "  \u001b[31m   \u001b[0m                  from /workspaces/SSG/include/index_graph.h:17,\n",
      "  \u001b[31m   \u001b[0m                  from /workspaces/SSG/src/index_graph.cpp:7:\n",
      "  \u001b[31m   \u001b[0m /usr/include/c++/9/bits/std_mutex.h:161:7: note: candidate: ‘std::lock_guard<_Mutex>::lock_guard(std::lock_guard<_Mutex>::mutex_type&, std::adopt_lock_t) [with _Mutex = std::mutex; std::lock_guard<_Mutex>::mutex_type = std::mutex]’\n",
      "  \u001b[31m   \u001b[0m   161 |       lock_guard(mutex_type& __m, adopt_lock_t) noexcept : _M_device(__m)\n",
      "  \u001b[31m   \u001b[0m       |       ^~~~~~~~~~\n",
      "  \u001b[31m   \u001b[0m /usr/include/c++/9/bits/std_mutex.h:161:7: note:   candidate expects 2 arguments, 1 provided\n",
      "  \u001b[31m   \u001b[0m /usr/include/c++/9/bits/std_mutex.h:158:16: note: candidate: ‘std::lock_guard<_Mutex>::lock_guard(std::lock_guard<_Mutex>::mutex_type&) [with _Mutex = std::mutex; std::lock_guard<_Mutex>::mutex_type = std::mutex]’\n",
      "  \u001b[31m   \u001b[0m   158 |       explicit lock_guard(mutex_type& __m) : _M_device(__m)\n",
      "  \u001b[31m   \u001b[0m       |                ^~~~~~~~~~\n",
      "  \u001b[31m   \u001b[0m /usr/include/c++/9/bits/std_mutex.h:158:39: note:   no known conversion for argument 1 from ‘pthread_mutex_t’ to ‘std::lock_guard<std::mutex>::mutex_type&’ {aka ‘std::mutex&’}\n",
      "  \u001b[31m   \u001b[0m   158 |       explicit lock_guard(mutex_type& __m) : _M_device(__m)\n",
      "  \u001b[31m   \u001b[0m       |                           ~~~~~~~~~~~~^~~\n",
      "  \u001b[31m   \u001b[0m make[2]: *** [src/CMakeFiles/ssg_s.dir/build.make:90: src/CMakeFiles/ssg_s.dir/index_graph.cpp.o] Error 1\n",
      "  \u001b[31m   \u001b[0m make[1]: *** [CMakeFiles/Makefile2:166: src/CMakeFiles/ssg_s.dir/all] Error 2\n",
      "  \u001b[31m   \u001b[0m make[1]: *** Waiting for unfinished jobs....\n",
      "  \u001b[31m   \u001b[0m make[2]: *** [src/CMakeFiles/ssg.dir/build.make:90: src/CMakeFiles/ssg.dir/index_graph.cpp.o] Error 1\n",
      "  \u001b[31m   \u001b[0m make[1]: *** [CMakeFiles/Makefile2:140: src/CMakeFiles/ssg.dir/all] Error 2\n",
      "  \u001b[31m   \u001b[0m make: *** [Makefile:91: all] Error 2\n",
      "  \u001b[31m   \u001b[0m Traceback (most recent call last):\n",
      "  \u001b[31m   \u001b[0m   File \"<string>\", line 2, in <module>\n",
      "  \u001b[31m   \u001b[0m   File \"<pip-setuptools-caller>\", line 34, in <module>\n",
      "  \u001b[31m   \u001b[0m   File \"/workspaces/SSG/setup.py\", line 64, in <module>\n",
      "  \u001b[31m   \u001b[0m     setup(\n",
      "  \u001b[31m   \u001b[0m   File \"/home/codespace/.local/lib/python3.10/site-packages/setuptools/__init__.py\", line 107, in setup\n",
      "  \u001b[31m   \u001b[0m     return distutils.core.setup(**attrs)\n",
      "  \u001b[31m   \u001b[0m   File \"/home/codespace/.local/lib/python3.10/site-packages/setuptools/_distutils/core.py\", line 185, in setup\n",
      "  \u001b[31m   \u001b[0m     return run_commands(dist)\n",
      "  \u001b[31m   \u001b[0m   File \"/home/codespace/.local/lib/python3.10/site-packages/setuptools/_distutils/core.py\", line 201, in run_commands\n",
      "  \u001b[31m   \u001b[0m     dist.run_commands()\n",
      "  \u001b[31m   \u001b[0m   File \"/home/codespace/.local/lib/python3.10/site-packages/setuptools/_distutils/dist.py\", line 969, in run_commands\n",
      "  \u001b[31m   \u001b[0m     self.run_command(cmd)\n",
      "  \u001b[31m   \u001b[0m   File \"/home/codespace/.local/lib/python3.10/site-packages/setuptools/dist.py\", line 1234, in run_command\n",
      "  \u001b[31m   \u001b[0m     super().run_command(command)\n",
      "  \u001b[31m   \u001b[0m   File \"/home/codespace/.local/lib/python3.10/site-packages/setuptools/_distutils/dist.py\", line 988, in run_command\n",
      "  \u001b[31m   \u001b[0m     cmd_obj.run()\n",
      "  \u001b[31m   \u001b[0m   File \"/opt/python/3.10.8/lib/python3.10/site-packages/wheel/bdist_wheel.py\", line 325, in run\n",
      "  \u001b[31m   \u001b[0m     self.run_command(\"build\")\n",
      "  \u001b[31m   \u001b[0m   File \"/home/codespace/.local/lib/python3.10/site-packages/setuptools/_distutils/cmd.py\", line 318, in run_command\n",
      "  \u001b[31m   \u001b[0m     self.distribution.run_command(command)\n",
      "  \u001b[31m   \u001b[0m   File \"/home/codespace/.local/lib/python3.10/site-packages/setuptools/dist.py\", line 1234, in run_command\n",
      "  \u001b[31m   \u001b[0m     super().run_command(command)\n",
      "  \u001b[31m   \u001b[0m   File \"/home/codespace/.local/lib/python3.10/site-packages/setuptools/_distutils/dist.py\", line 988, in run_command\n",
      "  \u001b[31m   \u001b[0m     cmd_obj.run()\n",
      "  \u001b[31m   \u001b[0m   File \"/home/codespace/.local/lib/python3.10/site-packages/setuptools/_distutils/command/build.py\", line 131, in run\n",
      "  \u001b[31m   \u001b[0m     self.run_command(cmd_name)\n",
      "  \u001b[31m   \u001b[0m   File \"/home/codespace/.local/lib/python3.10/site-packages/setuptools/_distutils/cmd.py\", line 318, in run_command\n",
      "  \u001b[31m   \u001b[0m     self.distribution.run_command(command)\n",
      "  \u001b[31m   \u001b[0m   File \"/home/codespace/.local/lib/python3.10/site-packages/setuptools/dist.py\", line 1234, in run_command\n",
      "  \u001b[31m   \u001b[0m     super().run_command(command)\n",
      "  \u001b[31m   \u001b[0m   File \"/home/codespace/.local/lib/python3.10/site-packages/setuptools/_distutils/dist.py\", line 988, in run_command\n",
      "  \u001b[31m   \u001b[0m     cmd_obj.run()\n",
      "  \u001b[31m   \u001b[0m   File \"/workspaces/SSG/setup.py\", line 32, in run\n",
      "  \u001b[31m   \u001b[0m     self.build_extension(ext)\n",
      "  \u001b[31m   \u001b[0m   File \"/workspaces/SSG/setup.py\", line 61, in build_extension\n",
      "  \u001b[31m   \u001b[0m     subprocess.check_call(['cmake', '--build', '.'] + build_args, cwd=self.build_temp)\n",
      "  \u001b[31m   \u001b[0m   File \"/opt/python/3.10.8/lib/python3.10/subprocess.py\", line 369, in check_call\n",
      "  \u001b[31m   \u001b[0m     raise CalledProcessError(retcode, cmd)\n",
      "  \u001b[31m   \u001b[0m subprocess.CalledProcessError: Command '['cmake', '--build', '.', '--config', 'Release', '--', '-j2']' returned non-zero exit status 2.\n",
      "  \u001b[31m   \u001b[0m \u001b[31m[end of output]\u001b[0m\n",
      "  \n",
      "  \u001b[1;35mnote\u001b[0m: This error originates from a subprocess, and is likely not a problem with pip.\n",
      "\u001b[31m  ERROR: Failed building wheel for pyssg\u001b[0m\u001b[31m\n",
      "\u001b[0m\u001b[?25h  Running setup.py clean for pyssg\n",
      "Failed to build pyssg\n",
      "\u001b[31mERROR: Could not build wheels for pyssg, which is required to install pyproject.toml-based projects\u001b[0m\u001b[31m\n",
      "\u001b[0mRequirement already satisfied: numpy in /home/codespace/.local/lib/python3.10/site-packages (1.25.2)\n"
     ]
    }
   ],
   "source": [
    "!pip install .\n",
    "!pip install numpy"
   ]
  },
  {
   "cell_type": "markdown",
   "metadata": {},
   "source": [
    "### 准备数据\n",
    "\n",
    "下载 sift_base.fvecs[huggingface 上，dataset： `qbo-odp/sift1m`]"
   ]
  },
  {
   "cell_type": "code",
   "execution_count": 13,
   "metadata": {},
   "outputs": [
    {
     "name": "stdout",
     "output_type": "stream",
     "text": [
      "Cloning into 'sift1m'...\n",
      "warning: redirecting to https://huggingface.co/datasets/qbo-odp/sift1m/\n",
      "remote: Enumerating objects: 14, done.\u001b[K\n",
      "remote: Counting objects: 100% (14/14), done.\u001b[K\n",
      "remote: Compressing objects: 100% (13/13), done.\u001b[K\n",
      "remote: Total 14 (delta 2), reused 0 (delta 0), pack-reused 0\u001b[K\n",
      "Unpacking objects: 100% (14/14), 2.03 KiB | 519.00 KiB/s, done.\n",
      "Filtering content: 100% (4/4), 550.08 MiB | 11.75 MiB/s, done.\n"
     ]
    }
   ],
   "source": [
    "! git clone http://huggingface.co/datasets/qbo-odp/sift1m"
   ]
  },
  {
   "cell_type": "markdown",
   "metadata": {},
   "source": [
    "### 读取数据"
   ]
  },
  {
   "cell_type": "code",
   "execution_count": null,
   "metadata": {},
   "outputs": [],
   "source": [
    "sift_file = \"sift1m/sift_base.fvecs\""
   ]
  },
  {
   "cell_type": "code",
   "execution_count": 3,
   "metadata": {},
   "outputs": [],
   "source": [
    "import numpy as np\n",
    "data = np.fromfile(sift_file, dtype=np.float32)\n",
    "dim = data[0].view(np.int32)\n",
    "data = data.reshape(-1, dim + 1)\n",
    "# fvecs 中每行的第0号元素表示每行数据的维数，不是向量数据。\n",
    "data = np.ascontiguousarray(data[:, 1:]) # 避免内存复制，直接使用连续内存作为数组。\n",
    "ndata, dim = data.shape"
   ]
  },
  {
   "cell_type": "markdown",
   "metadata": {},
   "source": [
    "## ssg 测试"
   ]
  },
  {
   "cell_type": "code",
   "execution_count": 3,
   "metadata": {},
   "outputs": [
    {
     "ename": "ImportError",
     "evalue": "/home/codespace/.python/current/lib/python3.10/site-packages/pyssg.cpython-310-x86_64-linux-gnu.so: undefined symbol: _ZN8efanna2e10IndexGraphD1Ev",
     "output_type": "error",
     "traceback": [
      "\u001b[0;31m---------------------------------------------------------------------------\u001b[0m",
      "\u001b[0;31mImportError\u001b[0m                               Traceback (most recent call last)",
      "Cell \u001b[0;32mIn[3], line 1\u001b[0m\n\u001b[0;32m----> 1\u001b[0m \u001b[39mimport\u001b[39;00m \u001b[39mpyssg\u001b[39;00m\n\u001b[1;32m      3\u001b[0m pyssg\u001b[39m.\u001b[39mset_seed(\u001b[39m1234\u001b[39m)\n",
      "\u001b[0;31mImportError\u001b[0m: /home/codespace/.python/current/lib/python3.10/site-packages/pyssg.cpython-310-x86_64-linux-gnu.so: undefined symbol: _ZN8efanna2e10IndexGraphD1Ev"
     ]
    }
   ],
   "source": [
    "import pyssg\n",
    "\n",
    "pyssg.set_seed(1234)"
   ]
  },
  {
   "cell_type": "markdown",
   "metadata": {},
   "source": [
    "### load fvecs data"
   ]
  },
  {
   "cell_type": "code",
   "execution_count": 7,
   "metadata": {},
   "outputs": [
    {
     "name": "stdout",
     "output_type": "stream",
     "text": [
      "Help on built-in function load_data in module pyssg:\n",
      "\n",
      "load_data(...) method of builtins.PyCapsule instance\n",
      "    load_data(arg0: str, arg1: int, arg2: int) -> float\n",
      "    \n",
      "    Load data from SIFT-style binary file\n",
      "\n"
     ]
    }
   ],
   "source": [
    "pyssg.load_data(sift_file, ndata, dim)"
   ]
  },
  {
   "cell_type": "code",
   "execution_count": 4,
   "metadata": {},
   "outputs": [],
   "source": [
    "\n",
    "index = pyssg.IndexSSG(dim, ndata)\n"
   ]
  },
  {
   "cell_type": "code",
   "execution_count": null,
   "metadata": {},
   "outputs": [],
   "source": [
    "# 构造 index\n",
    "index.load(\"ssg-index\", data)"
   ]
  },
  {
   "cell_type": "code",
   "execution_count": null,
   "metadata": {},
   "outputs": [],
   "source": [
    "\n",
    "k, l = 100, 300\n",
    "query = np.random.randn(dim).astype(np.float32)\n",
    "knn = index.search(query, k, l)\n",
    "print(knn)"
   ]
  }
 ],
 "metadata": {
  "kernelspec": {
   "display_name": "Python 3",
   "language": "python",
   "name": "python3"
  },
  "language_info": {
   "codemirror_mode": {
    "name": "ipython",
    "version": 3
   },
   "file_extension": ".py",
   "mimetype": "text/x-python",
   "name": "python",
   "nbconvert_exporter": "python",
   "pygments_lexer": "ipython3",
   "version": "3.10.8"
  },
  "orig_nbformat": 4
 },
 "nbformat": 4,
 "nbformat_minor": 2
}
