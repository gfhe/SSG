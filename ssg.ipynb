{
 "cells": [
  {
   "cell_type": "markdown",
   "metadata": {},
   "source": [
    "## 运行准备"
   ]
  },
  {
   "cell_type": "markdown",
   "metadata": {},
   "source": [
    "### 环境准备"
   ]
  },
  {
   "cell_type": "code",
   "execution_count": 2,
   "metadata": {},
   "outputs": [
    {
     "name": "stdout",
     "output_type": "stream",
     "text": [
      "Get:1 https://packages.microsoft.com/repos/microsoft-ubuntu-focal-prod focal InRelease [3611 B]\n",
      "Hit:2 https://dl.yarnpkg.com/debian stable InRelease                           \u001b[0m\u001b[33m\n",
      "Hit:3 https://repo.anaconda.com/pkgs/misc/debrepo/conda stable InRelease       \n",
      "Hit:4 http://archive.ubuntu.com/ubuntu focal InRelease                         \u001b[0m\u001b[33m\n",
      "Get:5 http://security.ubuntu.com/ubuntu focal-security InRelease [114 kB]      \u001b[0mm\n",
      "Get:6 http://archive.ubuntu.com/ubuntu focal-updates InRelease [114 kB]        \u001b[0m\n",
      "Get:8 http://security.ubuntu.com/ubuntu focal-security/universe amd64 Packages [1089 kB]\u001b[33m\u001b[33m\u001b[33m\u001b[33m\u001b[33m\n",
      "Hit:7 https://packagecloud.io/github/git-lfs/ubuntu focal InRelease          \u001b[0m\n",
      "Get:9 http://archive.ubuntu.com/ubuntu focal-backports InRelease [108 kB]    \u001b[33m\n",
      "Get:10 http://archive.ubuntu.com/ubuntu focal-updates/main amd64 Packages [3430 kB]\n",
      "Get:11 http://security.ubuntu.com/ubuntu focal-security/main amd64 Packages [2942 kB]33m\n",
      "Get:12 http://archive.ubuntu.com/ubuntu focal-updates/universe amd64 Packages [1394 kB]\n",
      "Fetched 9195 kB in 4s (2407 kB/s)                          \u001b[0m\u001b[33m\u001b[33m\u001b[33m\n",
      "Reading package lists... Done\n",
      "Building dependency tree       \n",
      "Reading state information... Done\n",
      "32 packages can be upgraded. Run 'apt list --upgradable' to see them.\n",
      "Reading package lists... Done\n",
      "Building dependency tree       \n",
      "Reading state information... Done\n",
      "g++ is already the newest version (4:9.3.0-1ubuntu2).\n",
      "libboost-dev is already the newest version (1.71.0.0ubuntu2).\n",
      "libgoogle-perftools-dev is already the newest version (2.7-1ubuntu2).\n",
      "cmake is already the newest version (3.16.3-1ubuntu1.20.04.1).\n",
      "0 upgraded, 0 newly installed, 0 to remove and 32 not upgraded.\n",
      "/workspaces/SSG\n",
      "\u001b[0mCMake Deprecation Warning at CMakeLists.txt:1 (cmake_minimum_required):\n",
      "  Compatibility with CMake < 3.5 will be removed from a future version of\n",
      "  CMake.\n",
      "\n",
      "  Update the VERSION argument <min> value or use a ...<max> suffix to tell\n",
      "  CMake that the project does not need compatibility with older versions.\n",
      "\n",
      "\u001b[0m\n",
      "\u001b[0mCMake Deprecation Warning at third_party/pybind11/CMakeLists.txt:8 (cmake_minimum_required):\n",
      "  Compatibility with CMake < 3.5 will be removed from a future version of\n",
      "  CMake.\n",
      "\n",
      "  Update the VERSION argument <min> value or use a ...<max> suffix to tell\n",
      "  CMake that the project does not need compatibility with older versions.\n",
      "\n",
      "\u001b[0m\n",
      "\u001b[0mCMake Deprecation Warning at third_party/pybind11/tools/pybind11Tools.cmake:8 (cmake_minimum_required):\n",
      "  Compatibility with CMake < 3.5 will be removed from a future version of\n",
      "  CMake.\n",
      "\n",
      "  Update the VERSION argument <min> value or use a ...<max> suffix to tell\n",
      "  CMake that the project does not need compatibility with older versions.\n",
      "Call Stack (most recent call first):\n",
      "  third_party/pybind11/CMakeLists.txt:33 (include)\n",
      "\n",
      "\u001b[0m\n",
      "\u001b[33mCMake Warning (dev) at third_party/pybind11/tools/FindPythonLibsNew.cmake:60 (find_package):\n",
      "  Policy CMP0148 is not set: The FindPythonInterp and FindPythonLibs modules\n",
      "  are removed.  Run \"cmake --help-policy CMP0148\" for policy details.  Use\n",
      "  the cmake_policy command to set the policy and suppress this warning.\n",
      "\n",
      "Call Stack (most recent call first):\n",
      "  third_party/pybind11/tools/pybind11Tools.cmake:16 (find_package)\n",
      "  third_party/pybind11/CMakeLists.txt:33 (include)\n",
      "This warning is for project developers.  Use -Wno-dev to suppress it.\n",
      "\u001b[0m\n",
      "-- pybind11 v2.5.0\n",
      "-- Configuring done (0.1s)\n",
      "-- Generating done (0.0s)\n",
      "-- Build files have been written to: /workspaces/SSG/build\n",
      "[  5%] \u001b[32mBuilding CXX object src/CMakeFiles/ssg.dir/index.cpp.o\u001b[0m\n",
      "[ 10%] \u001b[32mBuilding CXX object src/CMakeFiles/ssg.dir/index_ssg.cpp.o\u001b[0m\n",
      "[ 15%] \u001b[32mBuilding CXX object src/CMakeFiles/ssg.dir/index_random.cpp.o\u001b[0m\n",
      "[ 20%] \u001b[32mBuilding CXX object src/CMakeFiles/ssg_s.dir/index.cpp.o\u001b[0m\n",
      "[ 25%] \u001b[32mBuilding CXX object src/CMakeFiles/ssg_s.dir/index_ssg.cpp.o\u001b[0m\n",
      "[ 30%] \u001b[32mBuilding CXX object src/CMakeFiles/ssg_s.dir/index_random.cpp.o\u001b[0m\n",
      "[ 35%] \u001b[32mBuilding CXX object src/CMakeFiles/ssg_s.dir/util.cpp.o\u001b[0m\n",
      "[ 40%] \u001b[32mBuilding CXX object src/CMakeFiles/ssg.dir/util.cpp.o\u001b[0m\n",
      "[ 45%] \u001b[32mBuilding CXX object src/CMakeFiles/pyssg.dir/python.cpp.o\u001b[0m\n",
      "[ 50%] \u001b[32mBuilding CXX object src/CMakeFiles/pyssg.dir/index_random.cpp.o\u001b[0m\n",
      "[ 55%] \u001b[32mBuilding CXX object src/CMakeFiles/pyssg.dir/index.cpp.o\u001b[0m\n",
      "[ 60%] \u001b[32mBuilding CXX object src/CMakeFiles/pyssg.dir/util.cpp.o\u001b[0m\n",
      "[ 65%] \u001b[32mBuilding CXX object src/CMakeFiles/pyssg.dir/index_ssg.cpp.o\u001b[0m\n",
      "[ 70%] \u001b[32m\u001b[1mLinking CXX static library libssg_s.a\u001b[0m\n",
      "[ 70%] Built target ssg_s\n",
      "[ 75%] \u001b[32m\u001b[1mLinking CXX static library libssg.a\u001b[0m\n",
      "[ 75%] Built target ssg\n",
      "[ 80%] \u001b[32mBuilding CXX object tests/CMakeFiles/test_ssg_index.dir/test_ssg_index.cpp.o\u001b[0m\n",
      "[ 85%] \u001b[32mBuilding CXX object tests/CMakeFiles/test_ssg_optimized_search.dir/test_ssg_optimized_search.cpp.o\u001b[0m\n",
      "[ 90%] \u001b[32m\u001b[1mLinking CXX executable test_ssg_index\u001b[0m\n",
      "[ 95%] \u001b[32m\u001b[1mLinking CXX executable test_ssg_optimized_search\u001b[0m\n",
      "[ 95%] Built target test_ssg_optimized_search\n",
      "[ 95%] Built target test_ssg_index\n",
      "[100%] \u001b[32m\u001b[1mLinking CXX shared module pyssg.cpython-38-x86_64-linux-gnu.so\u001b[0m\n",
      "[100%] Built target pyssg\n"
     ]
    }
   ],
   "source": [
    "!sh init.sh"
   ]
  },
  {
   "cell_type": "code",
   "execution_count": 3,
   "metadata": {},
   "outputs": [
    {
     "name": "stdout",
     "output_type": "stream",
     "text": [
      "Processing /workspaces/SSG\n",
      "  Preparing metadata (setup.py) ... \u001b[?25ldone\n",
      "\u001b[?25hBuilding wheels for collected packages: pyssg\n",
      "  Building wheel for pyssg (setup.py) ... \u001b[?25ldone\n",
      "\u001b[?25h  Created wheel for pyssg: filename=pyssg-0.1-cp310-cp310-linux_x86_64.whl size=102682 sha256=dad713536b8e2e45fc708aa5248575e9bfd1f20836d89639dd079db5c9484dd0\n",
      "  Stored in directory: /tmp/pip-ephem-wheel-cache-i13m3zxc/wheels/ec/6e/1e/b6b0a5ab76881d636723508394250141d3535520506f9f2282\n",
      "Successfully built pyssg\n",
      "Installing collected packages: pyssg\n",
      "  Attempting uninstall: pyssg\n",
      "    Found existing installation: pyssg 0.1\n",
      "    Uninstalling pyssg-0.1:\n",
      "      Successfully uninstalled pyssg-0.1\n",
      "Successfully installed pyssg-0.1\n",
      "Requirement already satisfied: numpy in /home/codespace/.local/lib/python3.10/site-packages (1.25.2)\n"
     ]
    }
   ],
   "source": [
    "!pip install .\n",
    "!pip install numpy"
   ]
  },
  {
   "cell_type": "markdown",
   "metadata": {},
   "source": [
    "### 打包 pyssg"
   ]
  },
  {
   "cell_type": "code",
   "execution_count": 6,
   "metadata": {},
   "outputs": [
    {
     "name": "stdout",
     "output_type": "stream",
     "text": [
      "running bdist_wheel\n",
      "running build\n",
      "running build_ext\n",
      "\u001b[0mCMake Deprecation Warning at CMakeLists.txt:1 (cmake_minimum_required):\n",
      "  Compatibility with CMake < 3.5 will be removed from a future version of\n",
      "  CMake.\n",
      "\n",
      "  Update the VERSION argument <min> value or use a ...<max> suffix to tell\n",
      "  CMake that the project does not need compatibility with older versions.\n",
      "\n",
      "\u001b[0m\n",
      "\u001b[0mCMake Deprecation Warning at third_party/pybind11/CMakeLists.txt:8 (cmake_minimum_required):\n",
      "  Compatibility with CMake < 3.5 will be removed from a future version of\n",
      "  CMake.\n",
      "\n",
      "  Update the VERSION argument <min> value or use a ...<max> suffix to tell\n",
      "  CMake that the project does not need compatibility with older versions.\n",
      "\n",
      "\u001b[0m\n",
      "\u001b[0mCMake Deprecation Warning at third_party/pybind11/tools/pybind11Tools.cmake:8 (cmake_minimum_required):\n",
      "  Compatibility with CMake < 3.5 will be removed from a future version of\n",
      "  CMake.\n",
      "\n",
      "  Update the VERSION argument <min> value or use a ...<max> suffix to tell\n",
      "  CMake that the project does not need compatibility with older versions.\n",
      "Call Stack (most recent call first):\n",
      "  third_party/pybind11/CMakeLists.txt:33 (include)\n",
      "\n",
      "\u001b[0m\n",
      "\u001b[33mCMake Warning (dev) at third_party/pybind11/tools/FindPythonLibsNew.cmake:60 (find_package):\n",
      "  Policy CMP0148 is not set: The FindPythonInterp and FindPythonLibs modules\n",
      "  are removed.  Run \"cmake --help-policy CMP0148\" for policy details.  Use\n",
      "  the cmake_policy command to set the policy and suppress this warning.\n",
      "\n",
      "Call Stack (most recent call first):\n",
      "  third_party/pybind11/tools/pybind11Tools.cmake:16 (find_package)\n",
      "  third_party/pybind11/CMakeLists.txt:33 (include)\n",
      "This warning is for project developers.  Use -Wno-dev to suppress it.\n",
      "\u001b[0m\n",
      "-- Found PythonInterp: /home/codespace/.python/current/bin/python (found version \"3.10.8\") \n",
      "-- Found PythonLibs: /opt/python/3.10.8/lib/libpython3.10.so\n",
      "-- pybind11 v2.5.0\n",
      "-- Configuring done (0.2s)\n",
      "-- Generating done (0.0s)\n",
      "-- Build files have been written to: /workspaces/SSG/build/temp.linux-x86_64-cpython-310\n",
      "[ 25%] Built target ssg_s\n",
      "[ 50%] Built target ssg\n",
      "[ 60%] Built target test_ssg_index\n",
      "[ 90%] Built target pyssg\n",
      "[100%] Built target test_ssg_optimized_search\n",
      "/home/codespace/.local/lib/python3.10/site-packages/setuptools/_distutils/cmd.py:66: SetuptoolsDeprecationWarning: setup.py install is deprecated.\n",
      "!!\n",
      "\n",
      "        ********************************************************************************\n",
      "        Please avoid running ``setup.py`` directly.\n",
      "        Instead, use pypa/build, pypa/installer or other\n",
      "        standards-based tools.\n",
      "\n",
      "        See https://blog.ganssle.io/articles/2021/10/setup-py-deprecated.html for details.\n",
      "        ********************************************************************************\n",
      "\n",
      "!!\n",
      "  self.initialize_options()\n",
      "installing to build/bdist.linux-x86_64/wheel\n",
      "running install\n",
      "running install_lib\n",
      "creating build/bdist.linux-x86_64/wheel\n",
      "copying build/lib.linux-x86_64-cpython-310/pyssg.cpython-310-x86_64-linux-gnu.so -> build/bdist.linux-x86_64/wheel\n",
      "running install_egg_info\n",
      "running egg_info\n",
      "writing pyssg.egg-info/PKG-INFO\n",
      "writing dependency_links to pyssg.egg-info/dependency_links.txt\n",
      "writing top-level names to pyssg.egg-info/top_level.txt\n",
      "reading manifest file 'pyssg.egg-info/SOURCES.txt'\n",
      "adding license file 'LICENSE'\n",
      "writing manifest file 'pyssg.egg-info/SOURCES.txt'\n",
      "Copying pyssg.egg-info to build/bdist.linux-x86_64/wheel/pyssg-0.1-py3.10.egg-info\n",
      "running install_scripts\n",
      "creating build/bdist.linux-x86_64/wheel/pyssg-0.1.dist-info/WHEEL\n",
      "creating 'dist/pyssg-0.1-cp310-cp310-linux_x86_64.whl' and adding 'build/bdist.linux-x86_64/wheel' to it\n",
      "adding 'pyssg.cpython-310-x86_64-linux-gnu.so'\n",
      "adding 'pyssg-0.1.dist-info/LICENSE'\n",
      "adding 'pyssg-0.1.dist-info/METADATA'\n",
      "adding 'pyssg-0.1.dist-info/WHEEL'\n",
      "adding 'pyssg-0.1.dist-info/top_level.txt'\n",
      "adding 'pyssg-0.1.dist-info/RECORD'\n",
      "removing build/bdist.linux-x86_64/wheel\n"
     ]
    }
   ],
   "source": [
    "! python setup.py bdist_wheel"
   ]
  },
  {
   "cell_type": "markdown",
   "metadata": {},
   "source": [
    "### 准备数据\n",
    "\n",
    "下载 sift_base.fvecs[huggingface 上，dataset： `qbo-odp/sift1m`]"
   ]
  },
  {
   "cell_type": "code",
   "execution_count": 13,
   "metadata": {},
   "outputs": [
    {
     "name": "stdout",
     "output_type": "stream",
     "text": [
      "Cloning into 'sift1m'...\n",
      "warning: redirecting to https://huggingface.co/datasets/qbo-odp/sift1m/\n",
      "remote: Enumerating objects: 14, done.\u001b[K\n",
      "remote: Counting objects: 100% (14/14), done.\u001b[K\n",
      "remote: Compressing objects: 100% (13/13), done.\u001b[K\n",
      "remote: Total 14 (delta 2), reused 0 (delta 0), pack-reused 0\u001b[K\n",
      "Unpacking objects: 100% (14/14), 2.03 KiB | 519.00 KiB/s, done.\n",
      "Filtering content: 100% (4/4), 550.08 MiB | 11.75 MiB/s, done.\n"
     ]
    }
   ],
   "source": [
    "! git clone http://huggingface.co/datasets/qbo-odp/sift1m"
   ]
  },
  {
   "cell_type": "markdown",
   "metadata": {},
   "source": [
    "### 读取数据"
   ]
  },
  {
   "cell_type": "code",
   "execution_count": null,
   "metadata": {},
   "outputs": [],
   "source": [
    "sift_file = \"sift1m/sift_base.fvecs\""
   ]
  },
  {
   "cell_type": "code",
   "execution_count": 3,
   "metadata": {},
   "outputs": [],
   "source": [
    "import numpy as np\n",
    "data = np.fromfile(sift_file, dtype=np.float32)\n",
    "dim = data[0].view(np.int32)\n",
    "data = data.reshape(-1, dim + 1)\n",
    "# fvecs 中每行的第0号元素表示每行数据的维数，不是向量数据。\n",
    "data = np.ascontiguousarray(data[:, 1:]) # 避免内存复制，直接使用连续内存作为数组。\n",
    "ndata, dim = data.shape"
   ]
  },
  {
   "cell_type": "markdown",
   "metadata": {},
   "source": [
    "## ssg 测试"
   ]
  },
  {
   "cell_type": "code",
   "execution_count": 3,
   "metadata": {},
   "outputs": [
    {
     "ename": "ImportError",
     "evalue": "/home/codespace/.python/current/lib/python3.10/site-packages/pyssg.cpython-310-x86_64-linux-gnu.so: undefined symbol: _ZN8efanna2e10IndexGraphD1Ev",
     "output_type": "error",
     "traceback": [
      "\u001b[0;31m---------------------------------------------------------------------------\u001b[0m",
      "\u001b[0;31mImportError\u001b[0m                               Traceback (most recent call last)",
      "Cell \u001b[0;32mIn[3], line 1\u001b[0m\n\u001b[0;32m----> 1\u001b[0m \u001b[39mimport\u001b[39;00m \u001b[39mpyssg\u001b[39;00m\n\u001b[1;32m      3\u001b[0m pyssg\u001b[39m.\u001b[39mset_seed(\u001b[39m1234\u001b[39m)\n",
      "\u001b[0;31mImportError\u001b[0m: /home/codespace/.python/current/lib/python3.10/site-packages/pyssg.cpython-310-x86_64-linux-gnu.so: undefined symbol: _ZN8efanna2e10IndexGraphD1Ev"
     ]
    }
   ],
   "source": [
    "import pyssg\n",
    "\n",
    "pyssg.set_seed(1234)"
   ]
  },
  {
   "cell_type": "markdown",
   "metadata": {},
   "source": [
    "### load fvecs data"
   ]
  },
  {
   "cell_type": "code",
   "execution_count": 7,
   "metadata": {},
   "outputs": [
    {
     "name": "stdout",
     "output_type": "stream",
     "text": [
      "Help on built-in function load_data in module pyssg:\n",
      "\n",
      "load_data(...) method of builtins.PyCapsule instance\n",
      "    load_data(arg0: str, arg1: int, arg2: int) -> float\n",
      "    \n",
      "    Load data from SIFT-style binary file\n",
      "\n"
     ]
    }
   ],
   "source": [
    "pyssg.load_data(sift_file, ndata, dim)"
   ]
  },
  {
   "cell_type": "code",
   "execution_count": 4,
   "metadata": {},
   "outputs": [],
   "source": [
    "\n",
    "index = pyssg.IndexSSG(dim, ndata)\n"
   ]
  },
  {
   "cell_type": "code",
   "execution_count": null,
   "metadata": {},
   "outputs": [],
   "source": [
    "# 构造 index\n",
    "index.load(\"ssg-index\", data)"
   ]
  },
  {
   "cell_type": "code",
   "execution_count": null,
   "metadata": {},
   "outputs": [],
   "source": [
    "\n",
    "k, l = 100, 300\n",
    "query = np.random.randn(dim).astype(np.float32)\n",
    "knn = index.search(query, k, l)\n",
    "print(knn)"
   ]
  }
 ],
 "metadata": {
  "kernelspec": {
   "display_name": "Python 3",
   "language": "python",
   "name": "python3"
  },
  "language_info": {
   "codemirror_mode": {
    "name": "ipython",
    "version": 3
   },
   "file_extension": ".py",
   "mimetype": "text/x-python",
   "name": "python",
   "nbconvert_exporter": "python",
   "pygments_lexer": "ipython3",
   "version": "3.10.8"
  },
  "orig_nbformat": 4
 },
 "nbformat": 4,
 "nbformat_minor": 2
}
